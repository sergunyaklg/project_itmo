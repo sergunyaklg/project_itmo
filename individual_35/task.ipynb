{
 "cells": [
  {
   "cell_type": "code",
   "execution_count": 16,
   "metadata": {},
   "outputs": [
    {
     "data": {
      "text/html": [
       "<div>\n",
       "<style scoped>\n",
       "    .dataframe tbody tr th:only-of-type {\n",
       "        vertical-align: middle;\n",
       "    }\n",
       "\n",
       "    .dataframe tbody tr th {\n",
       "        vertical-align: top;\n",
       "    }\n",
       "\n",
       "    .dataframe thead th {\n",
       "        text-align: right;\n",
       "    }\n",
       "</style>\n",
       "<table border=\"1\" class=\"dataframe\">\n",
       "  <thead>\n",
       "    <tr style=\"text-align: right;\">\n",
       "      <th></th>\n",
       "      <th>0</th>\n",
       "      <th>1</th>\n",
       "      <th>2</th>\n",
       "      <th>3</th>\n",
       "      <th>4</th>\n",
       "      <th>5</th>\n",
       "      <th>6</th>\n",
       "      <th>7</th>\n",
       "      <th>8</th>\n",
       "      <th>9</th>\n",
       "    </tr>\n",
       "  </thead>\n",
       "  <tbody>\n",
       "    <tr>\n",
       "      <th>count</th>\n",
       "      <td>60.000000</td>\n",
       "      <td>60.000000</td>\n",
       "      <td>60.000000</td>\n",
       "      <td>60.000000</td>\n",
       "      <td>60.000000</td>\n",
       "      <td>60.000000</td>\n",
       "      <td>60.000000</td>\n",
       "      <td>60.000000</td>\n",
       "      <td>60.000000</td>\n",
       "      <td>60.000000</td>\n",
       "    </tr>\n",
       "    <tr>\n",
       "      <th>mean</th>\n",
       "      <td>-11.981267</td>\n",
       "      <td>-0.130413</td>\n",
       "      <td>9.033388</td>\n",
       "      <td>1.964282</td>\n",
       "      <td>3.676288</td>\n",
       "      <td>5.183542</td>\n",
       "      <td>5.612202</td>\n",
       "      <td>-0.917802</td>\n",
       "      <td>0.380501</td>\n",
       "      <td>-7.709989</td>\n",
       "    </tr>\n",
       "    <tr>\n",
       "      <th>std</th>\n",
       "      <td>13.269096</td>\n",
       "      <td>11.354465</td>\n",
       "      <td>16.659130</td>\n",
       "      <td>13.102835</td>\n",
       "      <td>18.223128</td>\n",
       "      <td>15.386386</td>\n",
       "      <td>12.094068</td>\n",
       "      <td>16.806438</td>\n",
       "      <td>12.954919</td>\n",
       "      <td>7.866304</td>\n",
       "    </tr>\n",
       "    <tr>\n",
       "      <th>min</th>\n",
       "      <td>-27.085191</td>\n",
       "      <td>-21.213137</td>\n",
       "      <td>-23.338907</td>\n",
       "      <td>-20.357029</td>\n",
       "      <td>-26.529580</td>\n",
       "      <td>-23.446092</td>\n",
       "      <td>-15.440784</td>\n",
       "      <td>-19.261979</td>\n",
       "      <td>-18.131860</td>\n",
       "      <td>-21.142902</td>\n",
       "    </tr>\n",
       "    <tr>\n",
       "      <th>25%</th>\n",
       "      <td>-23.222496</td>\n",
       "      <td>-3.598646</td>\n",
       "      <td>2.055453</td>\n",
       "      <td>-6.471149</td>\n",
       "      <td>-11.989129</td>\n",
       "      <td>-1.361888</td>\n",
       "      <td>-4.017736</td>\n",
       "      <td>-14.408009</td>\n",
       "      <td>-11.435611</td>\n",
       "      <td>-16.183697</td>\n",
       "    </tr>\n",
       "    <tr>\n",
       "      <th>50%</th>\n",
       "      <td>-15.313887</td>\n",
       "      <td>0.628468</td>\n",
       "      <td>17.828131</td>\n",
       "      <td>4.992956</td>\n",
       "      <td>15.204040</td>\n",
       "      <td>9.881208</td>\n",
       "      <td>6.902863</td>\n",
       "      <td>-11.877140</td>\n",
       "      <td>-2.089046</td>\n",
       "      <td>-3.593552</td>\n",
       "    </tr>\n",
       "    <tr>\n",
       "      <th>75%</th>\n",
       "      <td>-6.713504</td>\n",
       "      <td>7.688789</td>\n",
       "      <td>21.247112</td>\n",
       "      <td>8.010751</td>\n",
       "      <td>16.996333</td>\n",
       "      <td>17.324385</td>\n",
       "      <td>16.321132</td>\n",
       "      <td>18.253236</td>\n",
       "      <td>14.538382</td>\n",
       "      <td>-1.186457</td>\n",
       "    </tr>\n",
       "    <tr>\n",
       "      <th>max</th>\n",
       "      <td>13.255663</td>\n",
       "      <td>14.811178</td>\n",
       "      <td>26.898831</td>\n",
       "      <td>22.348029</td>\n",
       "      <td>24.323255</td>\n",
       "      <td>24.602995</td>\n",
       "      <td>22.733372</td>\n",
       "      <td>23.483258</td>\n",
       "      <td>17.549075</td>\n",
       "      <td>3.277325</td>\n",
       "    </tr>\n",
       "  </tbody>\n",
       "</table>\n",
       "</div>"
      ],
      "text/plain": [
       "               0          1          2          3          4          5  \\\n",
       "count  60.000000  60.000000  60.000000  60.000000  60.000000  60.000000   \n",
       "mean  -11.981267  -0.130413   9.033388   1.964282   3.676288   5.183542   \n",
       "std    13.269096  11.354465  16.659130  13.102835  18.223128  15.386386   \n",
       "min   -27.085191 -21.213137 -23.338907 -20.357029 -26.529580 -23.446092   \n",
       "25%   -23.222496  -3.598646   2.055453  -6.471149 -11.989129  -1.361888   \n",
       "50%   -15.313887   0.628468  17.828131   4.992956  15.204040   9.881208   \n",
       "75%    -6.713504   7.688789  21.247112   8.010751  16.996333  17.324385   \n",
       "max    13.255663  14.811178  26.898831  22.348029  24.323255  24.602995   \n",
       "\n",
       "               6          7          8          9  \n",
       "count  60.000000  60.000000  60.000000  60.000000  \n",
       "mean    5.612202  -0.917802   0.380501  -7.709989  \n",
       "std    12.094068  16.806438  12.954919   7.866304  \n",
       "min   -15.440784 -19.261979 -18.131860 -21.142902  \n",
       "25%    -4.017736 -14.408009 -11.435611 -16.183697  \n",
       "50%     6.902863 -11.877140  -2.089046  -3.593552  \n",
       "75%    16.321132  18.253236  14.538382  -1.186457  \n",
       "max    22.733372  23.483258  17.549075   3.277325  "
      ]
     },
     "execution_count": 16,
     "metadata": {},
     "output_type": "execute_result"
    }
   ],
   "source": [
    "import numpy as np\n",
    "from sklearn.decomposition import PCA\n",
    "from sklearn import datasets\n",
    "import matplotlib\n",
    "import matplotlib.pyplot as plt\n",
    "%matplotlib inline\n",
    "import pandas as pd\n",
    "import seaborn as sns\n",
    "\n",
    "df = pd.read_csv('34_25.csv', header = None)\n",
    "df.describe()"
   ]
  },
  {
   "cell_type": "code",
   "execution_count": 17,
   "metadata": {},
   "outputs": [
    {
     "data": {
      "text/plain": [
       "(60, 10)"
      ]
     },
     "execution_count": 17,
     "metadata": {},
     "output_type": "execute_result"
    }
   ],
   "source": [
    "df.shape"
   ]
  },
  {
   "cell_type": "code",
   "execution_count": 18,
   "metadata": {},
   "outputs": [],
   "source": [
    "from sklearn.decomposition import PCA\n",
    "pca = PCA(n_components = 2, svd_solver = 'full') \n",
    "pca.fit(df)\n",
    "pca_data = pca.transform(df)"
   ]
  },
  {
   "cell_type": "code",
   "execution_count": 19,
   "metadata": {},
   "outputs": [
    {
     "data": {
      "text/plain": [
       "array([-34.78385542, -22.59549992])"
      ]
     },
     "execution_count": 19,
     "metadata": {},
     "output_type": "execute_result"
    }
   ],
   "source": [
    "pca_data[0]"
   ]
  },
  {
   "cell_type": "code",
   "execution_count": 20,
   "metadata": {},
   "outputs": [
    {
     "name": "stdout",
     "output_type": "stream",
     "text": [
      "(2, 10)\n"
     ]
    },
    {
     "data": {
      "text/plain": [
       "array([[-0.36473588,  0.24394626, -0.36383253,  0.10228378, -0.4870481 ,\n",
       "         0.47469584, -0.33157808, -0.01600977, -0.3007137 ,  0.03795825],\n",
       "       [-0.30421944,  0.17689533,  0.28426821,  0.39936724,  0.36324946,\n",
       "         0.12301852, -0.14367271,  0.67994955,  0.0233215 , -0.07249211]])"
      ]
     },
     "execution_count": 20,
     "metadata": {},
     "output_type": "execute_result"
    }
   ],
   "source": [
    "print(pca.components_.shape) # В нашем случае матрица размер 2 х 64\n",
    "pca.components_"
   ]
  },
  {
   "cell_type": "code",
   "execution_count": 21,
   "metadata": {},
   "outputs": [],
   "source": [
    "pca = PCA(n_components = 10, svd_solver = 'full') \n",
    "pca_data = pca.fit_transform(df) "
   ]
  },
  {
   "cell_type": "code",
   "execution_count": 22,
   "metadata": {},
   "outputs": [
    {
     "data": {
      "text/plain": [
       "array([804.5591756 , 601.40803518, 391.14124811, 172.68203495,\n",
       "         3.01585355,   2.66368126,   2.15190032,   1.63190836,\n",
       "         1.19936941,   1.00523358])"
      ]
     },
     "execution_count": 22,
     "metadata": {},
     "output_type": "execute_result"
    }
   ],
   "source": [
    "pca.explained_variance_"
   ]
  },
  {
   "cell_type": "code",
   "execution_count": 23,
   "metadata": {},
   "outputs": [
    {
     "data": {
      "text/plain": [
       "array([0.40604393, 0.30351786, 0.19740068, 0.08714896, 0.00152204,\n",
       "       0.0013443 , 0.00108602, 0.00082359, 0.0006053 , 0.00050732])"
      ]
     },
     "execution_count": 23,
     "metadata": {},
     "output_type": "execute_result"
    }
   ],
   "source": [
    "pca.explained_variance_ratio_"
   ]
  },
  {
   "cell_type": "code",
   "execution_count": 24,
   "metadata": {},
   "outputs": [
    {
     "data": {
      "text/plain": [
       "array([0.40604393, 0.7095618 , 0.90696248, 0.99411144, 0.99563347,\n",
       "       0.99697778, 0.99806379, 0.99888738, 0.99949268, 1.        ])"
      ]
     },
     "execution_count": 24,
     "metadata": {},
     "output_type": "execute_result"
    }
   ],
   "source": [
    "import numpy as np\n",
    "explained_variance = np.cumsum(pca.explained_variance_ratio_)\n",
    "explained_variance"
   ]
  },
  {
   "cell_type": "code",
   "execution_count": 27,
   "metadata": {},
   "outputs": [],
   "source": [
    "# sns.lineplot(np.arange(1,11), explained_variance, ls = '-')"
   ]
  },
  {
   "cell_type": "code",
   "execution_count": 28,
   "metadata": {},
   "outputs": [
    {
     "name": "stdout",
     "output_type": "stream",
     "text": [
      "Минимальное количество ГК для заданного порога:  3\n"
     ]
    }
   ],
   "source": [
    "treshold = 0.85\n",
    "dim = 0\n",
    "for value in explained_variance:\n",
    "  if value > treshold:\n",
    "    print('Минимальное количество ГК для заданного порога: ', dim + 1)\n",
    "    break\n",
    "  dim += 1"
   ]
  },
  {
   "cell_type": "code",
   "execution_count": 29,
   "metadata": {},
   "outputs": [
    {
     "ename": "TypeError",
     "evalue": "scatterplot() takes from 0 to 1 positional arguments but 2 were given",
     "output_type": "error",
     "traceback": [
      "\u001b[0;31m---------------------------------------------------------------------------\u001b[0m",
      "\u001b[0;31mTypeError\u001b[0m                                 Traceback (most recent call last)",
      "Cell \u001b[0;32mIn [29], line 1\u001b[0m\n\u001b[0;32m----> 1\u001b[0m sns\u001b[39m.\u001b[39;49mscatterplot(pca_data[:, \u001b[39m0\u001b[39;49m], pca_data[:, \u001b[39m1\u001b[39;49m])\n",
      "\u001b[0;31mTypeError\u001b[0m: scatterplot() takes from 0 to 1 positional arguments but 2 were given"
     ]
    }
   ],
   "source": [
    "# sns.scatterplot(pca_data[:, 0], pca_data[:, 1])"
   ]
  },
  {
   "cell_type": "markdown",
   "metadata": {},
   "source": [
    "ЧАСТЬ 2"
   ]
  },
  {
   "cell_type": "code",
   "execution_count": 30,
   "metadata": {},
   "outputs": [],
   "source": [
    "df = pd.read_csv('X_reduced_408.csv', header = None, delimiter = ';')\n",
    "Phi = pd.read_csv('X_loadings_408.csv', header = None, delimiter = ';')"
   ]
  },
  {
   "cell_type": "code",
   "execution_count": 31,
   "metadata": {},
   "outputs": [
    {
     "data": {
      "text/html": [
       "<div>\n",
       "<style scoped>\n",
       "    .dataframe tbody tr th:only-of-type {\n",
       "        vertical-align: middle;\n",
       "    }\n",
       "\n",
       "    .dataframe tbody tr th {\n",
       "        vertical-align: top;\n",
       "    }\n",
       "\n",
       "    .dataframe thead th {\n",
       "        text-align: right;\n",
       "    }\n",
       "</style>\n",
       "<table border=\"1\" class=\"dataframe\">\n",
       "  <thead>\n",
       "    <tr style=\"text-align: right;\">\n",
       "      <th></th>\n",
       "      <th>0</th>\n",
       "      <th>1</th>\n",
       "      <th>2</th>\n",
       "      <th>3</th>\n",
       "      <th>4</th>\n",
       "      <th>5</th>\n",
       "      <th>6</th>\n",
       "      <th>7</th>\n",
       "      <th>8</th>\n",
       "      <th>9</th>\n",
       "    </tr>\n",
       "  </thead>\n",
       "  <tbody>\n",
       "    <tr>\n",
       "      <th>0</th>\n",
       "      <td>0.813516</td>\n",
       "      <td>46.249795</td>\n",
       "      <td>48.287749</td>\n",
       "      <td>-35.611005</td>\n",
       "      <td>-200.935466</td>\n",
       "      <td>-53.587974</td>\n",
       "      <td>-7.265691</td>\n",
       "      <td>-2.084236</td>\n",
       "      <td>-3.816588</td>\n",
       "      <td>-14.379928</td>\n",
       "    </tr>\n",
       "    <tr>\n",
       "      <th>1</th>\n",
       "      <td>0.813516</td>\n",
       "      <td>46.249795</td>\n",
       "      <td>48.287749</td>\n",
       "      <td>-35.611005</td>\n",
       "      <td>-200.935466</td>\n",
       "      <td>-53.587974</td>\n",
       "      <td>-7.265691</td>\n",
       "      <td>-2.084236</td>\n",
       "      <td>-3.816588</td>\n",
       "      <td>-14.379928</td>\n",
       "    </tr>\n",
       "    <tr>\n",
       "      <th>2</th>\n",
       "      <td>0.813516</td>\n",
       "      <td>46.249795</td>\n",
       "      <td>48.287749</td>\n",
       "      <td>-35.611005</td>\n",
       "      <td>-200.935466</td>\n",
       "      <td>-53.587974</td>\n",
       "      <td>-7.265691</td>\n",
       "      <td>-2.084236</td>\n",
       "      <td>-3.816588</td>\n",
       "      <td>-14.379928</td>\n",
       "    </tr>\n",
       "    <tr>\n",
       "      <th>3</th>\n",
       "      <td>0.813516</td>\n",
       "      <td>46.249795</td>\n",
       "      <td>48.287749</td>\n",
       "      <td>-35.611005</td>\n",
       "      <td>-200.935466</td>\n",
       "      <td>-53.587974</td>\n",
       "      <td>-7.265691</td>\n",
       "      <td>-2.084236</td>\n",
       "      <td>-3.816588</td>\n",
       "      <td>-14.379928</td>\n",
       "    </tr>\n",
       "    <tr>\n",
       "      <th>4</th>\n",
       "      <td>0.813516</td>\n",
       "      <td>46.249795</td>\n",
       "      <td>48.287749</td>\n",
       "      <td>-35.611005</td>\n",
       "      <td>-200.935466</td>\n",
       "      <td>-53.587974</td>\n",
       "      <td>-7.265691</td>\n",
       "      <td>-2.084236</td>\n",
       "      <td>-3.816588</td>\n",
       "      <td>-14.379928</td>\n",
       "    </tr>\n",
       "  </tbody>\n",
       "</table>\n",
       "</div>"
      ],
      "text/plain": [
       "          0          1          2          3           4          5         6  \\\n",
       "0  0.813516  46.249795  48.287749 -35.611005 -200.935466 -53.587974 -7.265691   \n",
       "1  0.813516  46.249795  48.287749 -35.611005 -200.935466 -53.587974 -7.265691   \n",
       "2  0.813516  46.249795  48.287749 -35.611005 -200.935466 -53.587974 -7.265691   \n",
       "3  0.813516  46.249795  48.287749 -35.611005 -200.935466 -53.587974 -7.265691   \n",
       "4  0.813516  46.249795  48.287749 -35.611005 -200.935466 -53.587974 -7.265691   \n",
       "\n",
       "          7         8          9  \n",
       "0 -2.084236 -3.816588 -14.379928  \n",
       "1 -2.084236 -3.816588 -14.379928  \n",
       "2 -2.084236 -3.816588 -14.379928  \n",
       "3 -2.084236 -3.816588 -14.379928  \n",
       "4 -2.084236 -3.816588 -14.379928  "
      ]
     },
     "execution_count": 31,
     "metadata": {},
     "output_type": "execute_result"
    }
   ],
   "source": [
    "df.head()"
   ]
  },
  {
   "cell_type": "code",
   "execution_count": 32,
   "metadata": {},
   "outputs": [
    {
     "data": {
      "text/plain": [
       "(100, 10)"
      ]
     },
     "execution_count": 32,
     "metadata": {},
     "output_type": "execute_result"
    }
   ],
   "source": [
    "df.shape"
   ]
  },
  {
   "cell_type": "code",
   "execution_count": 33,
   "metadata": {},
   "outputs": [
    {
     "data": {
      "text/plain": [
       "(100, 10)"
      ]
     },
     "execution_count": 33,
     "metadata": {},
     "output_type": "execute_result"
    }
   ],
   "source": [
    "Phi.shape"
   ]
  },
  {
   "cell_type": "code",
   "execution_count": 34,
   "metadata": {},
   "outputs": [],
   "source": [
    "restored = np.dot(df, Phi.T)"
   ]
  },
  {
   "cell_type": "code",
   "execution_count": 35,
   "metadata": {},
   "outputs": [
    {
     "data": {
      "text/plain": [
       "(100, 100)"
      ]
     },
     "execution_count": 35,
     "metadata": {},
     "output_type": "execute_result"
    }
   ],
   "source": [
    "restored.shape"
   ]
  },
  {
   "cell_type": "code",
   "execution_count": 36,
   "metadata": {},
   "outputs": [
    {
     "data": {
      "text/plain": [
       "<AxesSubplot: >"
      ]
     },
     "execution_count": 36,
     "metadata": {},
     "output_type": "execute_result"
    },
    {
     "data": {
      "image/png": "[encoded data removed]",
      "text/plain": [
       "<Figure size 640x480 with 2 Axes>"
      ]
     },
     "metadata": {},
     "output_type": "display_data"
    }
   ],
   "source": [
    "sns.heatmap(restored, cmap = 'Greys')"
   ]
  }
 ],
 "metadata": {
  "kernelspec": {
   "display_name": "Python 3.10.6 64-bit",
   "language": "python",
   "name": "python3"
  },
  "language_info": {
   "codemirror_mode": {
    "name": "ipython",
    "version": 3
   },
   "file_extension": ".py",
   "mimetype": "text/x-python",
   "name": "python",
   "nbconvert_exporter": "python",
   "pygments_lexer": "ipython3",
   "version": "3.10.6"
  },
  "orig_nbformat": 4,
  "vscode": {
   "interpreter": {
    "hash": "916dbcbb3f70747c44a77c7bcd40155683ae19c65e1c03b4aa3499c5328201f1"
   }
  }
 },
 "nbformat": 4,
 "nbformat_minor": 2
}
