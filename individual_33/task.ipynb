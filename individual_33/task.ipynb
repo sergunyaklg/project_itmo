{
 "cells": [
  {
   "cell_type": "code",
   "execution_count": 6,
   "metadata": {},
   "outputs": [],
   "source": [
    "import pandas as pd\n",
    "import matplotlib\n",
    "import numpy as np\n",
    "import matplotlib.pyplot as plt\n",
    "%matplotlib inline "
   ]
  },
  {
   "cell_type": "code",
   "execution_count": 7,
   "metadata": {},
   "outputs": [],
   "source": [
    "df = pd.read_csv('diabetes.csv') "
   ]
  },
  {
   "cell_type": "code",
   "execution_count": 8,
   "metadata": {},
   "outputs": [],
   "source": [
    "task_data = df.head(520)"
   ]
  },
  {
   "cell_type": "code",
   "execution_count": 9,
   "metadata": {},
   "outputs": [
    {
     "data": {
      "text/plain": [
       "333"
      ]
     },
     "execution_count": 9,
     "metadata": {},
     "output_type": "execute_result"
    }
   ],
   "source": [
    "len(task_data[task_data['Outcome'] == 0])"
   ]
  },
  {
   "cell_type": "code",
   "execution_count": 10,
   "metadata": {},
   "outputs": [],
   "source": [
    "train = task_data.head(int(len(task_data)*0.8))\n",
    "test = task_data.tail(int(len(task_data)*0.2))"
   ]
  },
  {
   "cell_type": "code",
   "execution_count": 11,
   "metadata": {},
   "outputs": [
    {
     "data": {
      "text/html": [
       "<div>\n",
       "<style scoped>\n",
       "    .dataframe tbody tr th:only-of-type {\n",
       "        vertical-align: middle;\n",
       "    }\n",
       "\n",
       "    .dataframe tbody tr th {\n",
       "        vertical-align: top;\n",
       "    }\n",
       "\n",
       "    .dataframe thead th {\n",
       "        text-align: right;\n",
       "    }\n",
       "</style>\n",
       "<table border=\"1\" class=\"dataframe\">\n",
       "  <thead>\n",
       "    <tr style=\"text-align: right;\">\n",
       "      <th></th>\n",
       "      <th>Pregnancies</th>\n",
       "      <th>Glucose</th>\n",
       "      <th>BloodPressure</th>\n",
       "      <th>SkinThickness</th>\n",
       "      <th>Insulin</th>\n",
       "      <th>BMI</th>\n",
       "      <th>DiabetesPedigreeFunction</th>\n",
       "      <th>Age</th>\n",
       "      <th>Outcome</th>\n",
       "    </tr>\n",
       "  </thead>\n",
       "  <tbody>\n",
       "    <tr>\n",
       "      <th>0</th>\n",
       "      <td>6</td>\n",
       "      <td>148</td>\n",
       "      <td>72</td>\n",
       "      <td>35</td>\n",
       "      <td>0</td>\n",
       "      <td>33.6</td>\n",
       "      <td>0.627</td>\n",
       "      <td>50</td>\n",
       "      <td>1</td>\n",
       "    </tr>\n",
       "    <tr>\n",
       "      <th>1</th>\n",
       "      <td>1</td>\n",
       "      <td>85</td>\n",
       "      <td>66</td>\n",
       "      <td>29</td>\n",
       "      <td>0</td>\n",
       "      <td>26.6</td>\n",
       "      <td>0.351</td>\n",
       "      <td>31</td>\n",
       "      <td>0</td>\n",
       "    </tr>\n",
       "    <tr>\n",
       "      <th>2</th>\n",
       "      <td>8</td>\n",
       "      <td>183</td>\n",
       "      <td>64</td>\n",
       "      <td>0</td>\n",
       "      <td>0</td>\n",
       "      <td>23.3</td>\n",
       "      <td>0.672</td>\n",
       "      <td>32</td>\n",
       "      <td>1</td>\n",
       "    </tr>\n",
       "    <tr>\n",
       "      <th>3</th>\n",
       "      <td>1</td>\n",
       "      <td>89</td>\n",
       "      <td>66</td>\n",
       "      <td>23</td>\n",
       "      <td>94</td>\n",
       "      <td>28.1</td>\n",
       "      <td>0.167</td>\n",
       "      <td>21</td>\n",
       "      <td>0</td>\n",
       "    </tr>\n",
       "    <tr>\n",
       "      <th>4</th>\n",
       "      <td>0</td>\n",
       "      <td>137</td>\n",
       "      <td>40</td>\n",
       "      <td>35</td>\n",
       "      <td>168</td>\n",
       "      <td>43.1</td>\n",
       "      <td>2.288</td>\n",
       "      <td>33</td>\n",
       "      <td>1</td>\n",
       "    </tr>\n",
       "  </tbody>\n",
       "</table>\n",
       "</div>"
      ],
      "text/plain": [
       "   Pregnancies  Glucose  BloodPressure  SkinThickness  Insulin   BMI  \\\n",
       "0            6      148             72             35        0  33.6   \n",
       "1            1       85             66             29        0  26.6   \n",
       "2            8      183             64              0        0  23.3   \n",
       "3            1       89             66             23       94  28.1   \n",
       "4            0      137             40             35      168  43.1   \n",
       "\n",
       "   DiabetesPedigreeFunction  Age  Outcome  \n",
       "0                     0.627   50        1  \n",
       "1                     0.351   31        0  \n",
       "2                     0.672   32        1  \n",
       "3                     0.167   21        0  \n",
       "4                     2.288   33        1  "
      ]
     },
     "execution_count": 11,
     "metadata": {},
     "output_type": "execute_result"
    }
   ],
   "source": [
    "train.head()"
   ]
  },
  {
   "cell_type": "code",
   "execution_count": 12,
   "metadata": {},
   "outputs": [],
   "source": [
    "features = list(train.columns[:8])"
   ]
  },
  {
   "cell_type": "code",
   "execution_count": 13,
   "metadata": {},
   "outputs": [
    {
     "name": "stdout",
     "output_type": "stream",
     "text": [
      "['Pregnancies', 'Glucose', 'BloodPressure', 'SkinThickness', 'Insulin', 'BMI', 'DiabetesPedigreeFunction', 'Age']\n"
     ]
    }
   ],
   "source": [
    "print(features)"
   ]
  },
  {
   "cell_type": "code",
   "execution_count": 14,
   "metadata": {},
   "outputs": [],
   "source": [
    "x = train[features]\n",
    "y = train['Outcome']"
   ]
  },
  {
   "cell_type": "code",
   "execution_count": 15,
   "metadata": {},
   "outputs": [],
   "source": [
    "from sklearn.tree import DecisionTreeClassifier"
   ]
  },
  {
   "cell_type": "code",
   "execution_count": 17,
   "metadata": {},
   "outputs": [],
   "source": [
    "tree = DecisionTreeClassifier(criterion='entropy', #критерий разделения\n",
    "                              min_samples_leaf=15, #минимальное число объектов в листе\n",
    "                              max_leaf_nodes=25, #максимальное число листьев\n",
    "                              random_state=2020)\n",
    "clf=tree.fit(x, y)"
   ]
  },
  {
   "cell_type": "code",
   "execution_count": 20,
   "metadata": {},
   "outputs": [
    {
     "data": {
      "image/svg+xml": "<?xml version=\"1.0\" encoding=\"UTF-8\" standalone=\"no\"?>\n<!DOCTYPE svg PUBLIC \"-//W3C//DTD SVG 1.1//EN\"\n \"http://www.w3.org/Graphics/SVG/1.1/DTD/svg11.dtd\">\n<!-- Generated by graphviz version 2.43.0 (0)\n -->\n<!-- Title: Tree Pages: 1 -->\n<svg width=\"1328pt\" height=\"1028pt\"\n viewBox=\"0.00 0.00 1328.00 1028.00\" xmlns=\"http://www.w3.org/2000/svg\" xmlns:xlink=\"http://www.w3.org/1999/xlink\">\n<g id=\"graph0\" class=\"graph\" transform=\"scale(1 1) rotate(0) translate(4 1024)\">\n<title>Tree</title>\n<polygon fill=\"white\" stroke=\"transparent\" points=\"-4,4 -4,-1024 1324,-1024 1324,4 -4,4\"/>\n<!-- 0 -->\n<g id=\"node1\" class=\"node\">\n<title>0</title>\n<path fill=\"#f5d0b5\" stroke=\"black\" d=\"M630.5,-1020C630.5,-1020 505.5,-1020 505.5,-1020 499.5,-1020 493.5,-1014 493.5,-1008 493.5,-1008 493.5,-949 493.5,-949 493.5,-943 499.5,-937 505.5,-937 505.5,-937 630.5,-937 630.5,-937 636.5,-937 642.5,-943 642.5,-949 642.5,-949 642.5,-1008 642.5,-1008 642.5,-1014 636.5,-1020 630.5,-1020\"/>\n<text text-anchor=\"middle\" x=\"568\" y=\"-1004.8\" font-family=\"Helvetica,sans-Serif\" font-size=\"14.00\">Glucose &lt;= 151.5</text>\n<text text-anchor=\"middle\" x=\"568\" y=\"-989.8\" font-family=\"Helvetica,sans-Serif\" font-size=\"14.00\">entropy = 0.96</text>\n<text text-anchor=\"middle\" x=\"568\" y=\"-974.8\" font-family=\"Helvetica,sans-Serif\" font-size=\"14.00\">samples = 416</text>\n<text text-anchor=\"middle\" x=\"568\" y=\"-959.8\" font-family=\"Helvetica,sans-Serif\" font-size=\"14.00\">value = [256, 160]</text>\n<text text-anchor=\"middle\" x=\"568\" y=\"-944.8\" font-family=\"Helvetica,sans-Serif\" font-size=\"14.00\">class = 0</text>\n</g>\n<!-- 1 -->\n<g id=\"node2\" class=\"node\">\n<title>1</title>\n<path fill=\"#f0b58a\" stroke=\"black\" d=\"M519,-901C519,-901 403,-901 403,-901 397,-901 391,-895 391,-889 391,-889 391,-830 391,-830 391,-824 397,-818 403,-818 403,-818 519,-818 519,-818 525,-818 531,-824 531,-830 531,-830 531,-889 531,-889 531,-895 525,-901 519,-901\"/>\n<text text-anchor=\"middle\" x=\"461\" y=\"-885.8\" font-family=\"Helvetica,sans-Serif\" font-size=\"14.00\">BMI &lt;= 26.9</text>\n<text text-anchor=\"middle\" x=\"461\" y=\"-870.8\" font-family=\"Helvetica,sans-Serif\" font-size=\"14.00\">entropy = 0.87</text>\n<text text-anchor=\"middle\" x=\"461\" y=\"-855.8\" font-family=\"Helvetica,sans-Serif\" font-size=\"14.00\">samples = 340</text>\n<text text-anchor=\"middle\" x=\"461\" y=\"-840.8\" font-family=\"Helvetica,sans-Serif\" font-size=\"14.00\">value = [241, 99]</text>\n<text text-anchor=\"middle\" x=\"461\" y=\"-825.8\" font-family=\"Helvetica,sans-Serif\" font-size=\"14.00\">class = 0</text>\n</g>\n<!-- 0&#45;&gt;1 -->\n<g id=\"edge1\" class=\"edge\">\n<title>0&#45;&gt;1</title>\n<path fill=\"none\" stroke=\"black\" d=\"M530.88,-936.91C522.49,-927.74 513.52,-917.93 504.89,-908.49\"/>\n<polygon fill=\"black\" stroke=\"black\" points=\"507.39,-906.04 498.06,-901.02 502.22,-910.76 507.39,-906.04\"/>\n<text text-anchor=\"middle\" x=\"496.94\" y=\"-922.3\" font-family=\"Helvetica,sans-Serif\" font-size=\"14.00\">True</text>\n</g>\n<!-- 2 -->\n<g id=\"node33\" class=\"node\">\n<title>2</title>\n<path fill=\"#6ab5eb\" stroke=\"black\" d=\"M789,-901C789,-901 561,-901 561,-901 555,-901 549,-895 549,-889 549,-889 549,-830 549,-830 549,-824 555,-818 561,-818 561,-818 789,-818 789,-818 795,-818 801,-824 801,-830 801,-830 801,-889 801,-889 801,-895 795,-901 789,-901\"/>\n<text text-anchor=\"middle\" x=\"675\" y=\"-885.8\" font-family=\"Helvetica,sans-Serif\" font-size=\"14.00\">DiabetesPedigreeFunction &lt;= 0.3</text>\n<text text-anchor=\"middle\" x=\"675\" y=\"-870.8\" font-family=\"Helvetica,sans-Serif\" font-size=\"14.00\">entropy = 0.72</text>\n<text text-anchor=\"middle\" x=\"675\" y=\"-855.8\" font-family=\"Helvetica,sans-Serif\" font-size=\"14.00\">samples = 76</text>\n<text text-anchor=\"middle\" x=\"675\" y=\"-840.8\" font-family=\"Helvetica,sans-Serif\" font-size=\"14.00\">value = [15, 61]</text>\n<text text-anchor=\"middle\" x=\"675\" y=\"-825.8\" font-family=\"Helvetica,sans-Serif\" font-size=\"14.00\">class = 1</text>\n</g>\n<!-- 0&#45;&gt;2 -->\n<g id=\"edge32\" class=\"edge\">\n<title>0&#45;&gt;2</title>\n<path fill=\"none\" stroke=\"black\" d=\"M605.12,-936.91C613.51,-927.74 622.48,-917.93 631.11,-908.49\"/>\n<polygon fill=\"black\" stroke=\"black\" points=\"633.78,-910.76 637.94,-901.02 628.61,-906.04 633.78,-910.76\"/>\n<text text-anchor=\"middle\" x=\"639.06\" y=\"-922.3\" font-family=\"Helvetica,sans-Serif\" font-size=\"14.00\">False</text>\n</g>\n<!-- 3 -->\n<g id=\"node3\" class=\"node\">\n<title>3</title>\n<path fill=\"#e78845\" stroke=\"black\" d=\"M279,-782C279,-782 147,-782 147,-782 141,-782 135,-776 135,-770 135,-770 135,-711 135,-711 135,-705 141,-699 147,-699 147,-699 279,-699 279,-699 285,-699 291,-705 291,-711 291,-711 291,-770 291,-770 291,-776 285,-782 279,-782\"/>\n<text text-anchor=\"middle\" x=\"213\" y=\"-766.8\" font-family=\"Helvetica,sans-Serif\" font-size=\"14.00\">Pregnancies &lt;= 2.5</text>\n<text text-anchor=\"middle\" x=\"213\" y=\"-751.8\" font-family=\"Helvetica,sans-Serif\" font-size=\"14.00\">entropy = 0.31</text>\n<text text-anchor=\"middle\" x=\"213\" y=\"-736.8\" font-family=\"Helvetica,sans-Serif\" font-size=\"14.00\">samples = 89</text>\n<text text-anchor=\"middle\" x=\"213\" y=\"-721.8\" font-family=\"Helvetica,sans-Serif\" font-size=\"14.00\">value = [84, 5]</text>\n<text text-anchor=\"middle\" x=\"213\" y=\"-706.8\" font-family=\"Helvetica,sans-Serif\" font-size=\"14.00\">class = 0</text>\n</g>\n<!-- 1&#45;&gt;3 -->\n<g id=\"edge2\" class=\"edge\">\n<title>1&#45;&gt;3</title>\n<path fill=\"none\" stroke=\"black\" d=\"M390.93,-825.44C362.76,-812.15 329.98,-796.69 300.29,-782.68\"/>\n<polygon fill=\"black\" stroke=\"black\" points=\"301.72,-779.49 291.18,-778.38 298.73,-785.82 301.72,-779.49\"/>\n</g>\n<!-- 4 -->\n<g id=\"node8\" class=\"node\">\n<title>4</title>\n<path fill=\"#f5ccb0\" stroke=\"black\" d=\"M534,-782C534,-782 418,-782 418,-782 412,-782 406,-776 406,-770 406,-770 406,-711 406,-711 406,-705 412,-699 418,-699 418,-699 534,-699 534,-699 540,-699 546,-705 546,-711 546,-711 546,-770 546,-770 546,-776 540,-782 534,-782\"/>\n<text text-anchor=\"middle\" x=\"476\" y=\"-766.8\" font-family=\"Helvetica,sans-Serif\" font-size=\"14.00\">Glucose &lt;= 99.5</text>\n<text text-anchor=\"middle\" x=\"476\" y=\"-751.8\" font-family=\"Helvetica,sans-Serif\" font-size=\"14.00\">entropy = 0.95</text>\n<text text-anchor=\"middle\" x=\"476\" y=\"-736.8\" font-family=\"Helvetica,sans-Serif\" font-size=\"14.00\">samples = 251</text>\n<text text-anchor=\"middle\" x=\"476\" y=\"-721.8\" font-family=\"Helvetica,sans-Serif\" font-size=\"14.00\">value = [157, 94]</text>\n<text text-anchor=\"middle\" x=\"476\" y=\"-706.8\" font-family=\"Helvetica,sans-Serif\" font-size=\"14.00\">class = 0</text>\n</g>\n<!-- 1&#45;&gt;4 -->\n<g id=\"edge7\" class=\"edge\">\n<title>1&#45;&gt;4</title>\n<path fill=\"none\" stroke=\"black\" d=\"M466.2,-817.91C467.27,-809.56 468.41,-800.67 469.52,-792.02\"/>\n<polygon fill=\"black\" stroke=\"black\" points=\"473,-792.38 470.81,-782.02 466.06,-791.49 473,-792.38\"/>\n</g>\n<!-- 15 -->\n<g id=\"node4\" class=\"node\">\n<title>15</title>\n<path fill=\"#e58139\" stroke=\"black\" d=\"M110,-655.5C110,-655.5 12,-655.5 12,-655.5 6,-655.5 0,-649.5 0,-643.5 0,-643.5 0,-599.5 0,-599.5 0,-593.5 6,-587.5 12,-587.5 12,-587.5 110,-587.5 110,-587.5 116,-587.5 122,-593.5 122,-599.5 122,-599.5 122,-643.5 122,-643.5 122,-649.5 116,-655.5 110,-655.5\"/>\n<text text-anchor=\"middle\" x=\"61\" y=\"-640.3\" font-family=\"Helvetica,sans-Serif\" font-size=\"14.00\">entropy = 0.0</text>\n<text text-anchor=\"middle\" x=\"61\" y=\"-625.3\" font-family=\"Helvetica,sans-Serif\" font-size=\"14.00\">samples = 48</text>\n<text text-anchor=\"middle\" x=\"61\" y=\"-610.3\" font-family=\"Helvetica,sans-Serif\" font-size=\"14.00\">value = [48, 0]</text>\n<text text-anchor=\"middle\" x=\"61\" y=\"-595.3\" font-family=\"Helvetica,sans-Serif\" font-size=\"14.00\">class = 0</text>\n</g>\n<!-- 3&#45;&gt;15 -->\n<g id=\"edge3\" class=\"edge\">\n<title>3&#45;&gt;15</title>\n<path fill=\"none\" stroke=\"black\" d=\"M160.26,-698.91C144.64,-686.88 127.56,-673.73 112.04,-661.79\"/>\n<polygon fill=\"black\" stroke=\"black\" points=\"114.15,-658.99 104.09,-655.67 109.88,-664.54 114.15,-658.99\"/>\n</g>\n<!-- 16 -->\n<g id=\"node5\" class=\"node\">\n<title>16</title>\n<path fill=\"#e99254\" stroke=\"black\" d=\"M273.5,-663C273.5,-663 152.5,-663 152.5,-663 146.5,-663 140.5,-657 140.5,-651 140.5,-651 140.5,-592 140.5,-592 140.5,-586 146.5,-580 152.5,-580 152.5,-580 273.5,-580 273.5,-580 279.5,-580 285.5,-586 285.5,-592 285.5,-592 285.5,-651 285.5,-651 285.5,-657 279.5,-663 273.5,-663\"/>\n<text text-anchor=\"middle\" x=\"213\" y=\"-647.8\" font-family=\"Helvetica,sans-Serif\" font-size=\"14.00\">Glucose &lt;= 105.5</text>\n<text text-anchor=\"middle\" x=\"213\" y=\"-632.8\" font-family=\"Helvetica,sans-Serif\" font-size=\"14.00\">entropy = 0.53</text>\n<text text-anchor=\"middle\" x=\"213\" y=\"-617.8\" font-family=\"Helvetica,sans-Serif\" font-size=\"14.00\">samples = 41</text>\n<text text-anchor=\"middle\" x=\"213\" y=\"-602.8\" font-family=\"Helvetica,sans-Serif\" font-size=\"14.00\">value = [36, 5]</text>\n<text text-anchor=\"middle\" x=\"213\" y=\"-587.8\" font-family=\"Helvetica,sans-Serif\" font-size=\"14.00\">class = 0</text>\n</g>\n<!-- 3&#45;&gt;16 -->\n<g id=\"edge4\" class=\"edge\">\n<title>3&#45;&gt;16</title>\n<path fill=\"none\" stroke=\"black\" d=\"M213,-698.91C213,-690.65 213,-681.86 213,-673.3\"/>\n<polygon fill=\"black\" stroke=\"black\" points=\"216.5,-673.02 213,-663.02 209.5,-673.02 216.5,-673.02\"/>\n</g>\n<!-- 23 -->\n<g id=\"node6\" class=\"node\">\n<title>23</title>\n<path fill=\"#e58139\" stroke=\"black\" d=\"M122,-536.5C122,-536.5 24,-536.5 24,-536.5 18,-536.5 12,-530.5 12,-524.5 12,-524.5 12,-480.5 12,-480.5 12,-474.5 18,-468.5 24,-468.5 24,-468.5 122,-468.5 122,-468.5 128,-468.5 134,-474.5 134,-480.5 134,-480.5 134,-524.5 134,-524.5 134,-530.5 128,-536.5 122,-536.5\"/>\n<text text-anchor=\"middle\" x=\"73\" y=\"-521.3\" font-family=\"Helvetica,sans-Serif\" font-size=\"14.00\">entropy = 0.0</text>\n<text text-anchor=\"middle\" x=\"73\" y=\"-506.3\" font-family=\"Helvetica,sans-Serif\" font-size=\"14.00\">samples = 16</text>\n<text text-anchor=\"middle\" x=\"73\" y=\"-491.3\" font-family=\"Helvetica,sans-Serif\" font-size=\"14.00\">value = [16, 0]</text>\n<text text-anchor=\"middle\" x=\"73\" y=\"-476.3\" font-family=\"Helvetica,sans-Serif\" font-size=\"14.00\">class = 0</text>\n</g>\n<!-- 16&#45;&gt;23 -->\n<g id=\"edge5\" class=\"edge\">\n<title>16&#45;&gt;23</title>\n<path fill=\"none\" stroke=\"black\" d=\"M164.43,-579.91C150.17,-567.99 134.59,-554.98 120.41,-543.12\"/>\n<polygon fill=\"black\" stroke=\"black\" points=\"122.6,-540.39 112.69,-536.67 118.12,-545.77 122.6,-540.39\"/>\n</g>\n<!-- 24 -->\n<g id=\"node7\" class=\"node\">\n<title>24</title>\n<path fill=\"#eca06a\" stroke=\"black\" d=\"M262,-536.5C262,-536.5 164,-536.5 164,-536.5 158,-536.5 152,-530.5 152,-524.5 152,-524.5 152,-480.5 152,-480.5 152,-474.5 158,-468.5 164,-468.5 164,-468.5 262,-468.5 262,-468.5 268,-468.5 274,-474.5 274,-480.5 274,-480.5 274,-524.5 274,-524.5 274,-530.5 268,-536.5 262,-536.5\"/>\n<text text-anchor=\"middle\" x=\"213\" y=\"-521.3\" font-family=\"Helvetica,sans-Serif\" font-size=\"14.00\">entropy = 0.72</text>\n<text text-anchor=\"middle\" x=\"213\" y=\"-506.3\" font-family=\"Helvetica,sans-Serif\" font-size=\"14.00\">samples = 25</text>\n<text text-anchor=\"middle\" x=\"213\" y=\"-491.3\" font-family=\"Helvetica,sans-Serif\" font-size=\"14.00\">value = [20, 5]</text>\n<text text-anchor=\"middle\" x=\"213\" y=\"-476.3\" font-family=\"Helvetica,sans-Serif\" font-size=\"14.00\">class = 0</text>\n</g>\n<!-- 16&#45;&gt;24 -->\n<g id=\"edge6\" class=\"edge\">\n<title>16&#45;&gt;24</title>\n<path fill=\"none\" stroke=\"black\" d=\"M213,-579.91C213,-569.2 213,-557.62 213,-546.78\"/>\n<polygon fill=\"black\" stroke=\"black\" points=\"216.5,-546.67 213,-536.67 209.5,-546.67 216.5,-546.67\"/>\n</g>\n<!-- 5 -->\n<g id=\"node9\" class=\"node\">\n<title>5</title>\n<path fill=\"#e99457\" stroke=\"black\" d=\"M525,-663C525,-663 427,-663 427,-663 421,-663 415,-657 415,-651 415,-651 415,-592 415,-592 415,-586 421,-580 427,-580 427,-580 525,-580 525,-580 531,-580 537,-586 537,-592 537,-592 537,-651 537,-651 537,-657 531,-663 525,-663\"/>\n<text text-anchor=\"middle\" x=\"476\" y=\"-647.8\" font-family=\"Helvetica,sans-Serif\" font-size=\"14.00\">Age &lt;= 23.5</text>\n<text text-anchor=\"middle\" x=\"476\" y=\"-632.8\" font-family=\"Helvetica,sans-Serif\" font-size=\"14.00\">entropy = 0.56</text>\n<text text-anchor=\"middle\" x=\"476\" y=\"-617.8\" font-family=\"Helvetica,sans-Serif\" font-size=\"14.00\">samples = 61</text>\n<text text-anchor=\"middle\" x=\"476\" y=\"-602.8\" font-family=\"Helvetica,sans-Serif\" font-size=\"14.00\">value = [53, 8]</text>\n<text text-anchor=\"middle\" x=\"476\" y=\"-587.8\" font-family=\"Helvetica,sans-Serif\" font-size=\"14.00\">class = 0</text>\n</g>\n<!-- 4&#45;&gt;5 -->\n<g id=\"edge8\" class=\"edge\">\n<title>4&#45;&gt;5</title>\n<path fill=\"none\" stroke=\"black\" d=\"M476,-698.91C476,-690.65 476,-681.86 476,-673.3\"/>\n<polygon fill=\"black\" stroke=\"black\" points=\"479.5,-673.02 476,-663.02 472.5,-673.02 479.5,-673.02\"/>\n</g>\n<!-- 6 -->\n<g id=\"node14\" class=\"node\">\n<title>6</title>\n<path fill=\"#fae9dd\" stroke=\"black\" d=\"M703,-663C703,-663 587,-663 587,-663 581,-663 575,-657 575,-651 575,-651 575,-592 575,-592 575,-586 581,-580 587,-580 587,-580 703,-580 703,-580 709,-580 715,-586 715,-592 715,-592 715,-651 715,-651 715,-657 709,-663 703,-663\"/>\n<text text-anchor=\"middle\" x=\"645\" y=\"-647.8\" font-family=\"Helvetica,sans-Serif\" font-size=\"14.00\">BMI &lt;= 43.0</text>\n<text text-anchor=\"middle\" x=\"645\" y=\"-632.8\" font-family=\"Helvetica,sans-Serif\" font-size=\"14.00\">entropy = 0.99</text>\n<text text-anchor=\"middle\" x=\"645\" y=\"-617.8\" font-family=\"Helvetica,sans-Serif\" font-size=\"14.00\">samples = 190</text>\n<text text-anchor=\"middle\" x=\"645\" y=\"-602.8\" font-family=\"Helvetica,sans-Serif\" font-size=\"14.00\">value = [104, 86]</text>\n<text text-anchor=\"middle\" x=\"645\" y=\"-587.8\" font-family=\"Helvetica,sans-Serif\" font-size=\"14.00\">class = 0</text>\n</g>\n<!-- 4&#45;&gt;6 -->\n<g id=\"edge13\" class=\"edge\">\n<title>4&#45;&gt;6</title>\n<path fill=\"none\" stroke=\"black\" d=\"M534.63,-698.91C548.66,-689.2 563.74,-678.76 578.11,-668.81\"/>\n<polygon fill=\"black\" stroke=\"black\" points=\"580.24,-671.59 586.47,-663.02 576.26,-665.84 580.24,-671.59\"/>\n</g>\n<!-- 13 -->\n<g id=\"node10\" class=\"node\">\n<title>13</title>\n<path fill=\"#e58139\" stroke=\"black\" d=\"M402,-536.5C402,-536.5 304,-536.5 304,-536.5 298,-536.5 292,-530.5 292,-524.5 292,-524.5 292,-480.5 292,-480.5 292,-474.5 298,-468.5 304,-468.5 304,-468.5 402,-468.5 402,-468.5 408,-468.5 414,-474.5 414,-480.5 414,-480.5 414,-524.5 414,-524.5 414,-530.5 408,-536.5 402,-536.5\"/>\n<text text-anchor=\"middle\" x=\"353\" y=\"-521.3\" font-family=\"Helvetica,sans-Serif\" font-size=\"14.00\">entropy = 0.0</text>\n<text text-anchor=\"middle\" x=\"353\" y=\"-506.3\" font-family=\"Helvetica,sans-Serif\" font-size=\"14.00\">samples = 23</text>\n<text text-anchor=\"middle\" x=\"353\" y=\"-491.3\" font-family=\"Helvetica,sans-Serif\" font-size=\"14.00\">value = [23, 0]</text>\n<text text-anchor=\"middle\" x=\"353\" y=\"-476.3\" font-family=\"Helvetica,sans-Serif\" font-size=\"14.00\">class = 0</text>\n</g>\n<!-- 5&#45;&gt;13 -->\n<g id=\"edge9\" class=\"edge\">\n<title>5&#45;&gt;13</title>\n<path fill=\"none\" stroke=\"black\" d=\"M433.33,-579.91C421.03,-568.21 407.62,-555.46 395.35,-543.78\"/>\n<polygon fill=\"black\" stroke=\"black\" points=\"397.53,-541.02 387.87,-536.67 392.7,-546.1 397.53,-541.02\"/>\n</g>\n<!-- 14 -->\n<g id=\"node11\" class=\"node\">\n<title>14</title>\n<path fill=\"#eca36e\" stroke=\"black\" d=\"M542,-544C542,-544 444,-544 444,-544 438,-544 432,-538 432,-532 432,-532 432,-473 432,-473 432,-467 438,-461 444,-461 444,-461 542,-461 542,-461 548,-461 554,-467 554,-473 554,-473 554,-532 554,-532 554,-538 548,-544 542,-544\"/>\n<text text-anchor=\"middle\" x=\"493\" y=\"-528.8\" font-family=\"Helvetica,sans-Serif\" font-size=\"14.00\">Age &lt;= 32.5</text>\n<text text-anchor=\"middle\" x=\"493\" y=\"-513.8\" font-family=\"Helvetica,sans-Serif\" font-size=\"14.00\">entropy = 0.74</text>\n<text text-anchor=\"middle\" x=\"493\" y=\"-498.8\" font-family=\"Helvetica,sans-Serif\" font-size=\"14.00\">samples = 38</text>\n<text text-anchor=\"middle\" x=\"493\" y=\"-483.8\" font-family=\"Helvetica,sans-Serif\" font-size=\"14.00\">value = [30, 8]</text>\n<text text-anchor=\"middle\" x=\"493\" y=\"-468.8\" font-family=\"Helvetica,sans-Serif\" font-size=\"14.00\">class = 0</text>\n</g>\n<!-- 5&#45;&gt;14 -->\n<g id=\"edge10\" class=\"edge\">\n<title>5&#45;&gt;14</title>\n<path fill=\"none\" stroke=\"black\" d=\"M481.9,-579.91C483.11,-571.56 484.4,-562.67 485.66,-554.02\"/>\n<polygon fill=\"black\" stroke=\"black\" points=\"489.14,-554.42 487.11,-544.02 482.21,-553.41 489.14,-554.42\"/>\n</g>\n<!-- 33 -->\n<g id=\"node12\" class=\"node\">\n<title>33</title>\n<path fill=\"#efb388\" stroke=\"black\" d=\"M402,-417.5C402,-417.5 304,-417.5 304,-417.5 298,-417.5 292,-411.5 292,-405.5 292,-405.5 292,-361.5 292,-361.5 292,-355.5 298,-349.5 304,-349.5 304,-349.5 402,-349.5 402,-349.5 408,-349.5 414,-355.5 414,-361.5 414,-361.5 414,-405.5 414,-405.5 414,-411.5 408,-417.5 402,-417.5\"/>\n<text text-anchor=\"middle\" x=\"353\" y=\"-402.3\" font-family=\"Helvetica,sans-Serif\" font-size=\"14.00\">entropy = 0.86</text>\n<text text-anchor=\"middle\" x=\"353\" y=\"-387.3\" font-family=\"Helvetica,sans-Serif\" font-size=\"14.00\">samples = 21</text>\n<text text-anchor=\"middle\" x=\"353\" y=\"-372.3\" font-family=\"Helvetica,sans-Serif\" font-size=\"14.00\">value = [15, 6]</text>\n<text text-anchor=\"middle\" x=\"353\" y=\"-357.3\" font-family=\"Helvetica,sans-Serif\" font-size=\"14.00\">class = 0</text>\n</g>\n<!-- 14&#45;&gt;33 -->\n<g id=\"edge11\" class=\"edge\">\n<title>14&#45;&gt;33</title>\n<path fill=\"none\" stroke=\"black\" d=\"M444.43,-460.91C430.17,-448.99 414.59,-435.98 400.41,-424.12\"/>\n<polygon fill=\"black\" stroke=\"black\" points=\"402.6,-421.39 392.69,-417.67 398.12,-426.77 402.6,-421.39\"/>\n</g>\n<!-- 34 -->\n<g id=\"node13\" class=\"node\">\n<title>34</title>\n<path fill=\"#e89253\" stroke=\"black\" d=\"M542,-417.5C542,-417.5 444,-417.5 444,-417.5 438,-417.5 432,-411.5 432,-405.5 432,-405.5 432,-361.5 432,-361.5 432,-355.5 438,-349.5 444,-349.5 444,-349.5 542,-349.5 542,-349.5 548,-349.5 554,-355.5 554,-361.5 554,-361.5 554,-405.5 554,-405.5 554,-411.5 548,-417.5 542,-417.5\"/>\n<text text-anchor=\"middle\" x=\"493\" y=\"-402.3\" font-family=\"Helvetica,sans-Serif\" font-size=\"14.00\">entropy = 0.52</text>\n<text text-anchor=\"middle\" x=\"493\" y=\"-387.3\" font-family=\"Helvetica,sans-Serif\" font-size=\"14.00\">samples = 17</text>\n<text text-anchor=\"middle\" x=\"493\" y=\"-372.3\" font-family=\"Helvetica,sans-Serif\" font-size=\"14.00\">value = [15, 2]</text>\n<text text-anchor=\"middle\" x=\"493\" y=\"-357.3\" font-family=\"Helvetica,sans-Serif\" font-size=\"14.00\">class = 0</text>\n</g>\n<!-- 14&#45;&gt;34 -->\n<g id=\"edge12\" class=\"edge\">\n<title>14&#45;&gt;34</title>\n<path fill=\"none\" stroke=\"black\" d=\"M493,-460.91C493,-450.2 493,-438.62 493,-427.78\"/>\n<polygon fill=\"black\" stroke=\"black\" points=\"496.5,-427.67 493,-417.67 489.5,-427.67 496.5,-427.67\"/>\n</g>\n<!-- 11 -->\n<g id=\"node15\" class=\"node\">\n<title>11</title>\n<path fill=\"#f7dac5\" stroke=\"black\" d=\"M698.5,-544C698.5,-544 591.5,-544 591.5,-544 585.5,-544 579.5,-538 579.5,-532 579.5,-532 579.5,-473 579.5,-473 579.5,-467 585.5,-461 591.5,-461 591.5,-461 698.5,-461 698.5,-461 704.5,-461 710.5,-467 710.5,-473 710.5,-473 710.5,-532 710.5,-532 710.5,-538 704.5,-544 698.5,-544\"/>\n<text text-anchor=\"middle\" x=\"645\" y=\"-528.8\" font-family=\"Helvetica,sans-Serif\" font-size=\"14.00\">Age &lt;= 30.5</text>\n<text text-anchor=\"middle\" x=\"645\" y=\"-513.8\" font-family=\"Helvetica,sans-Serif\" font-size=\"14.00\">entropy = 0.98</text>\n<text text-anchor=\"middle\" x=\"645\" y=\"-498.8\" font-family=\"Helvetica,sans-Serif\" font-size=\"14.00\">samples = 169</text>\n<text text-anchor=\"middle\" x=\"645\" y=\"-483.8\" font-family=\"Helvetica,sans-Serif\" font-size=\"14.00\">value = [99, 70]</text>\n<text text-anchor=\"middle\" x=\"645\" y=\"-468.8\" font-family=\"Helvetica,sans-Serif\" font-size=\"14.00\">class = 0</text>\n</g>\n<!-- 6&#45;&gt;11 -->\n<g id=\"edge14\" class=\"edge\">\n<title>6&#45;&gt;11</title>\n<path fill=\"none\" stroke=\"black\" d=\"M645,-579.91C645,-571.65 645,-562.86 645,-554.3\"/>\n<polygon fill=\"black\" stroke=\"black\" points=\"648.5,-554.02 645,-544.02 641.5,-554.02 648.5,-554.02\"/>\n</g>\n<!-- 12 -->\n<g id=\"node32\" class=\"node\">\n<title>12</title>\n<path fill=\"#77bced\" stroke=\"black\" d=\"M839,-536.5C839,-536.5 741,-536.5 741,-536.5 735,-536.5 729,-530.5 729,-524.5 729,-524.5 729,-480.5 729,-480.5 729,-474.5 735,-468.5 741,-468.5 741,-468.5 839,-468.5 839,-468.5 845,-468.5 851,-474.5 851,-480.5 851,-480.5 851,-524.5 851,-524.5 851,-530.5 845,-536.5 839,-536.5\"/>\n<text text-anchor=\"middle\" x=\"790\" y=\"-521.3\" font-family=\"Helvetica,sans-Serif\" font-size=\"14.00\">entropy = 0.79</text>\n<text text-anchor=\"middle\" x=\"790\" y=\"-506.3\" font-family=\"Helvetica,sans-Serif\" font-size=\"14.00\">samples = 21</text>\n<text text-anchor=\"middle\" x=\"790\" y=\"-491.3\" font-family=\"Helvetica,sans-Serif\" font-size=\"14.00\">value = [5, 16]</text>\n<text text-anchor=\"middle\" x=\"790\" y=\"-476.3\" font-family=\"Helvetica,sans-Serif\" font-size=\"14.00\">class = 1</text>\n</g>\n<!-- 6&#45;&gt;12 -->\n<g id=\"edge31\" class=\"edge\">\n<title>6&#45;&gt;12</title>\n<path fill=\"none\" stroke=\"black\" d=\"M695.31,-579.91C710.08,-567.99 726.21,-554.98 740.9,-543.12\"/>\n<polygon fill=\"black\" stroke=\"black\" points=\"743.31,-545.67 748.9,-536.67 738.92,-540.22 743.31,-545.67\"/>\n</g>\n<!-- 17 -->\n<g id=\"node16\" class=\"node\">\n<title>17</title>\n<path fill=\"#f1b992\" stroke=\"black\" d=\"M705.5,-425C705.5,-425 584.5,-425 584.5,-425 578.5,-425 572.5,-419 572.5,-413 572.5,-413 572.5,-354 572.5,-354 572.5,-348 578.5,-342 584.5,-342 584.5,-342 705.5,-342 705.5,-342 711.5,-342 717.5,-348 717.5,-354 717.5,-354 717.5,-413 717.5,-413 717.5,-419 711.5,-425 705.5,-425\"/>\n<text text-anchor=\"middle\" x=\"645\" y=\"-409.8\" font-family=\"Helvetica,sans-Serif\" font-size=\"14.00\">Glucose &lt;= 123.5</text>\n<text text-anchor=\"middle\" x=\"645\" y=\"-394.8\" font-family=\"Helvetica,sans-Serif\" font-size=\"14.00\">entropy = 0.89</text>\n<text text-anchor=\"middle\" x=\"645\" y=\"-379.8\" font-family=\"Helvetica,sans-Serif\" font-size=\"14.00\">samples = 84</text>\n<text text-anchor=\"middle\" x=\"645\" y=\"-364.8\" font-family=\"Helvetica,sans-Serif\" font-size=\"14.00\">value = [58, 26]</text>\n<text text-anchor=\"middle\" x=\"645\" y=\"-349.8\" font-family=\"Helvetica,sans-Serif\" font-size=\"14.00\">class = 0</text>\n</g>\n<!-- 11&#45;&gt;17 -->\n<g id=\"edge15\" class=\"edge\">\n<title>11&#45;&gt;17</title>\n<path fill=\"none\" stroke=\"black\" d=\"M645,-460.91C645,-452.65 645,-443.86 645,-435.3\"/>\n<polygon fill=\"black\" stroke=\"black\" points=\"648.5,-435.02 645,-425.02 641.5,-435.02 648.5,-435.02\"/>\n</g>\n<!-- 18 -->\n<g id=\"node23\" class=\"node\">\n<title>18</title>\n<path fill=\"#f2f8fd\" stroke=\"black\" d=\"M990.5,-425C990.5,-425 753.5,-425 753.5,-425 747.5,-425 741.5,-419 741.5,-413 741.5,-413 741.5,-354 741.5,-354 741.5,-348 747.5,-342 753.5,-342 753.5,-342 990.5,-342 990.5,-342 996.5,-342 1002.5,-348 1002.5,-354 1002.5,-354 1002.5,-413 1002.5,-413 1002.5,-419 996.5,-425 990.5,-425\"/>\n<text text-anchor=\"middle\" x=\"872\" y=\"-409.8\" font-family=\"Helvetica,sans-Serif\" font-size=\"14.00\">DiabetesPedigreeFunction &lt;= 0.53</text>\n<text text-anchor=\"middle\" x=\"872\" y=\"-394.8\" font-family=\"Helvetica,sans-Serif\" font-size=\"14.00\">entropy = 1.0</text>\n<text text-anchor=\"middle\" x=\"872\" y=\"-379.8\" font-family=\"Helvetica,sans-Serif\" font-size=\"14.00\">samples = 85</text>\n<text text-anchor=\"middle\" x=\"872\" y=\"-364.8\" font-family=\"Helvetica,sans-Serif\" font-size=\"14.00\">value = [41, 44]</text>\n<text text-anchor=\"middle\" x=\"872\" y=\"-349.8\" font-family=\"Helvetica,sans-Serif\" font-size=\"14.00\">class = 1</text>\n</g>\n<!-- 11&#45;&gt;18 -->\n<g id=\"edge22\" class=\"edge\">\n<title>11&#45;&gt;18</title>\n<path fill=\"none\" stroke=\"black\" d=\"M710.79,-465.83C713.9,-464.19 716.98,-462.57 720,-461 739.65,-450.75 760.83,-439.94 780.97,-429.78\"/>\n<polygon fill=\"black\" stroke=\"black\" points=\"782.78,-432.79 790.13,-425.16 779.63,-426.53 782.78,-432.79\"/>\n</g>\n<!-- 19 -->\n<g id=\"node17\" class=\"node\">\n<title>19</title>\n<path fill=\"#eba069\" stroke=\"black\" d=\"M481,-306C481,-306 325,-306 325,-306 319,-306 313,-300 313,-294 313,-294 313,-235 313,-235 313,-229 319,-223 325,-223 325,-223 481,-223 481,-223 487,-223 493,-229 493,-235 493,-235 493,-294 493,-294 493,-300 487,-306 481,-306\"/>\n<text text-anchor=\"middle\" x=\"403\" y=\"-290.8\" font-family=\"Helvetica,sans-Serif\" font-size=\"14.00\">SkinThickness &lt;= 29.5</text>\n<text text-anchor=\"middle\" x=\"403\" y=\"-275.8\" font-family=\"Helvetica,sans-Serif\" font-size=\"14.00\">entropy = 0.71</text>\n<text text-anchor=\"middle\" x=\"403\" y=\"-260.8\" font-family=\"Helvetica,sans-Serif\" font-size=\"14.00\">samples = 46</text>\n<text text-anchor=\"middle\" x=\"403\" y=\"-245.8\" font-family=\"Helvetica,sans-Serif\" font-size=\"14.00\">value = [37, 9]</text>\n<text text-anchor=\"middle\" x=\"403\" y=\"-230.8\" font-family=\"Helvetica,sans-Serif\" font-size=\"14.00\">class = 0</text>\n</g>\n<!-- 17&#45;&gt;19 -->\n<g id=\"edge16\" class=\"edge\">\n<title>17&#45;&gt;19</title>\n<path fill=\"none\" stroke=\"black\" d=\"M572.15,-346.46C569.06,-344.95 566,-343.46 563,-342 541.92,-331.75 519.23,-320.84 497.75,-310.56\"/>\n<polygon fill=\"black\" stroke=\"black\" points=\"499.16,-307.35 488.62,-306.19 496.13,-313.66 499.16,-307.35\"/>\n</g>\n<!-- 20 -->\n<g id=\"node20\" class=\"node\">\n<title>20</title>\n<path fill=\"#fae7d9\" stroke=\"black\" d=\"M722.5,-306C722.5,-306 567.5,-306 567.5,-306 561.5,-306 555.5,-300 555.5,-294 555.5,-294 555.5,-235 555.5,-235 555.5,-229 561.5,-223 567.5,-223 567.5,-223 722.5,-223 722.5,-223 728.5,-223 734.5,-229 734.5,-235 734.5,-235 734.5,-294 734.5,-294 734.5,-300 728.5,-306 722.5,-306\"/>\n<text text-anchor=\"middle\" x=\"645\" y=\"-290.8\" font-family=\"Helvetica,sans-Serif\" font-size=\"14.00\">BloodPressure &lt;= 71.0</text>\n<text text-anchor=\"middle\" x=\"645\" y=\"-275.8\" font-family=\"Helvetica,sans-Serif\" font-size=\"14.00\">entropy = 0.99</text>\n<text text-anchor=\"middle\" x=\"645\" y=\"-260.8\" font-family=\"Helvetica,sans-Serif\" font-size=\"14.00\">samples = 38</text>\n<text text-anchor=\"middle\" x=\"645\" y=\"-245.8\" font-family=\"Helvetica,sans-Serif\" font-size=\"14.00\">value = [21, 17]</text>\n<text text-anchor=\"middle\" x=\"645\" y=\"-230.8\" font-family=\"Helvetica,sans-Serif\" font-size=\"14.00\">class = 0</text>\n</g>\n<!-- 17&#45;&gt;20 -->\n<g id=\"edge19\" class=\"edge\">\n<title>17&#45;&gt;20</title>\n<path fill=\"none\" stroke=\"black\" d=\"M645,-341.91C645,-333.65 645,-324.86 645,-316.3\"/>\n<polygon fill=\"black\" stroke=\"black\" points=\"648.5,-316.02 645,-306.02 641.5,-316.02 648.5,-316.02\"/>\n</g>\n<!-- 25 -->\n<g id=\"node18\" class=\"node\">\n<title>25</title>\n<path fill=\"#e88e4d\" stroke=\"black\" d=\"M312,-179.5C312,-179.5 214,-179.5 214,-179.5 208,-179.5 202,-173.5 202,-167.5 202,-167.5 202,-123.5 202,-123.5 202,-117.5 208,-111.5 214,-111.5 214,-111.5 312,-111.5 312,-111.5 318,-111.5 324,-117.5 324,-123.5 324,-123.5 324,-167.5 324,-167.5 324,-173.5 318,-179.5 312,-179.5\"/>\n<text text-anchor=\"middle\" x=\"263\" y=\"-164.3\" font-family=\"Helvetica,sans-Serif\" font-size=\"14.00\">entropy = 0.44</text>\n<text text-anchor=\"middle\" x=\"263\" y=\"-149.3\" font-family=\"Helvetica,sans-Serif\" font-size=\"14.00\">samples = 22</text>\n<text text-anchor=\"middle\" x=\"263\" y=\"-134.3\" font-family=\"Helvetica,sans-Serif\" font-size=\"14.00\">value = [20, 2]</text>\n<text text-anchor=\"middle\" x=\"263\" y=\"-119.3\" font-family=\"Helvetica,sans-Serif\" font-size=\"14.00\">class = 0</text>\n</g>\n<!-- 19&#45;&gt;25 -->\n<g id=\"edge17\" class=\"edge\">\n<title>19&#45;&gt;25</title>\n<path fill=\"none\" stroke=\"black\" d=\"M354.43,-222.91C340.17,-210.99 324.59,-197.98 310.41,-186.12\"/>\n<polygon fill=\"black\" stroke=\"black\" points=\"312.6,-183.39 302.69,-179.67 308.12,-188.77 312.6,-183.39\"/>\n</g>\n<!-- 26 -->\n<g id=\"node19\" class=\"node\">\n<title>26</title>\n<path fill=\"#f0b58b\" stroke=\"black\" d=\"M452,-179.5C452,-179.5 354,-179.5 354,-179.5 348,-179.5 342,-173.5 342,-167.5 342,-167.5 342,-123.5 342,-123.5 342,-117.5 348,-111.5 354,-111.5 354,-111.5 452,-111.5 452,-111.5 458,-111.5 464,-117.5 464,-123.5 464,-123.5 464,-167.5 464,-167.5 464,-173.5 458,-179.5 452,-179.5\"/>\n<text text-anchor=\"middle\" x=\"403\" y=\"-164.3\" font-family=\"Helvetica,sans-Serif\" font-size=\"14.00\">entropy = 0.87</text>\n<text text-anchor=\"middle\" x=\"403\" y=\"-149.3\" font-family=\"Helvetica,sans-Serif\" font-size=\"14.00\">samples = 24</text>\n<text text-anchor=\"middle\" x=\"403\" y=\"-134.3\" font-family=\"Helvetica,sans-Serif\" font-size=\"14.00\">value = [17, 7]</text>\n<text text-anchor=\"middle\" x=\"403\" y=\"-119.3\" font-family=\"Helvetica,sans-Serif\" font-size=\"14.00\">class = 0</text>\n</g>\n<!-- 19&#45;&gt;26 -->\n<g id=\"edge18\" class=\"edge\">\n<title>19&#45;&gt;26</title>\n<path fill=\"none\" stroke=\"black\" d=\"M403,-222.91C403,-212.2 403,-200.62 403,-189.78\"/>\n<polygon fill=\"black\" stroke=\"black\" points=\"406.5,-189.67 403,-179.67 399.5,-189.67 406.5,-189.67\"/>\n</g>\n<!-- 21 -->\n<g id=\"node21\" class=\"node\">\n<title>21</title>\n<path fill=\"#a3d1f3\" stroke=\"black\" d=\"M592,-179.5C592,-179.5 494,-179.5 494,-179.5 488,-179.5 482,-173.5 482,-167.5 482,-167.5 482,-123.5 482,-123.5 482,-117.5 488,-111.5 494,-111.5 494,-111.5 592,-111.5 592,-111.5 598,-111.5 604,-117.5 604,-123.5 604,-123.5 604,-167.5 604,-167.5 604,-173.5 598,-179.5 592,-179.5\"/>\n<text text-anchor=\"middle\" x=\"543\" y=\"-164.3\" font-family=\"Helvetica,sans-Serif\" font-size=\"14.00\">entropy = 0.93</text>\n<text text-anchor=\"middle\" x=\"543\" y=\"-149.3\" font-family=\"Helvetica,sans-Serif\" font-size=\"14.00\">samples = 23</text>\n<text text-anchor=\"middle\" x=\"543\" y=\"-134.3\" font-family=\"Helvetica,sans-Serif\" font-size=\"14.00\">value = [8, 15]</text>\n<text text-anchor=\"middle\" x=\"543\" y=\"-119.3\" font-family=\"Helvetica,sans-Serif\" font-size=\"14.00\">class = 1</text>\n</g>\n<!-- 20&#45;&gt;21 -->\n<g id=\"edge20\" class=\"edge\">\n<title>20&#45;&gt;21</title>\n<path fill=\"none\" stroke=\"black\" d=\"M609.61,-222.91C599.61,-211.43 588.72,-198.94 578.69,-187.44\"/>\n<polygon fill=\"black\" stroke=\"black\" points=\"581.12,-184.9 571.91,-179.67 575.85,-189.5 581.12,-184.9\"/>\n</g>\n<!-- 22 -->\n<g id=\"node22\" class=\"node\">\n<title>22</title>\n<path fill=\"#e99457\" stroke=\"black\" d=\"M732,-179.5C732,-179.5 634,-179.5 634,-179.5 628,-179.5 622,-173.5 622,-167.5 622,-167.5 622,-123.5 622,-123.5 622,-117.5 628,-111.5 634,-111.5 634,-111.5 732,-111.5 732,-111.5 738,-111.5 744,-117.5 744,-123.5 744,-123.5 744,-167.5 744,-167.5 744,-173.5 738,-179.5 732,-179.5\"/>\n<text text-anchor=\"middle\" x=\"683\" y=\"-164.3\" font-family=\"Helvetica,sans-Serif\" font-size=\"14.00\">entropy = 0.57</text>\n<text text-anchor=\"middle\" x=\"683\" y=\"-149.3\" font-family=\"Helvetica,sans-Serif\" font-size=\"14.00\">samples = 15</text>\n<text text-anchor=\"middle\" x=\"683\" y=\"-134.3\" font-family=\"Helvetica,sans-Serif\" font-size=\"14.00\">value = [13, 2]</text>\n<text text-anchor=\"middle\" x=\"683\" y=\"-119.3\" font-family=\"Helvetica,sans-Serif\" font-size=\"14.00\">class = 0</text>\n</g>\n<!-- 20&#45;&gt;22 -->\n<g id=\"edge21\" class=\"edge\">\n<title>20&#45;&gt;22</title>\n<path fill=\"none\" stroke=\"black\" d=\"M658.18,-222.91C661.7,-212.09 665.5,-200.38 669.05,-189.44\"/>\n<polygon fill=\"black\" stroke=\"black\" points=\"672.47,-190.26 672.23,-179.67 665.81,-188.1 672.47,-190.26\"/>\n</g>\n<!-- 27 -->\n<g id=\"node24\" class=\"node\">\n<title>27</title>\n<path fill=\"#fbeade\" stroke=\"black\" d=\"M950,-306C950,-306 794,-306 794,-306 788,-306 782,-300 782,-294 782,-294 782,-235 782,-235 782,-229 788,-223 794,-223 794,-223 950,-223 950,-223 956,-223 962,-229 962,-235 962,-235 962,-294 962,-294 962,-300 956,-306 950,-306\"/>\n<text text-anchor=\"middle\" x=\"872\" y=\"-290.8\" font-family=\"Helvetica,sans-Serif\" font-size=\"14.00\">SkinThickness &lt;= 26.5</text>\n<text text-anchor=\"middle\" x=\"872\" y=\"-275.8\" font-family=\"Helvetica,sans-Serif\" font-size=\"14.00\">entropy = 0.99</text>\n<text text-anchor=\"middle\" x=\"872\" y=\"-260.8\" font-family=\"Helvetica,sans-Serif\" font-size=\"14.00\">samples = 55</text>\n<text text-anchor=\"middle\" x=\"872\" y=\"-245.8\" font-family=\"Helvetica,sans-Serif\" font-size=\"14.00\">value = [30, 25]</text>\n<text text-anchor=\"middle\" x=\"872\" y=\"-230.8\" font-family=\"Helvetica,sans-Serif\" font-size=\"14.00\">class = 0</text>\n</g>\n<!-- 18&#45;&gt;27 -->\n<g id=\"edge23\" class=\"edge\">\n<title>18&#45;&gt;27</title>\n<path fill=\"none\" stroke=\"black\" d=\"M872,-341.91C872,-333.65 872,-324.86 872,-316.3\"/>\n<polygon fill=\"black\" stroke=\"black\" points=\"875.5,-316.02 872,-306.02 868.5,-316.02 875.5,-316.02\"/>\n</g>\n<!-- 28 -->\n<g id=\"node29\" class=\"node\">\n<title>28</title>\n<path fill=\"#acd6f4\" stroke=\"black\" d=\"M1201,-306C1201,-306 1045,-306 1045,-306 1039,-306 1033,-300 1033,-294 1033,-294 1033,-235 1033,-235 1033,-229 1039,-223 1045,-223 1045,-223 1201,-223 1201,-223 1207,-223 1213,-229 1213,-235 1213,-235 1213,-294 1213,-294 1213,-300 1207,-306 1201,-306\"/>\n<text text-anchor=\"middle\" x=\"1123\" y=\"-290.8\" font-family=\"Helvetica,sans-Serif\" font-size=\"14.00\">SkinThickness &lt;= 27.5</text>\n<text text-anchor=\"middle\" x=\"1123\" y=\"-275.8\" font-family=\"Helvetica,sans-Serif\" font-size=\"14.00\">entropy = 0.95</text>\n<text text-anchor=\"middle\" x=\"1123\" y=\"-260.8\" font-family=\"Helvetica,sans-Serif\" font-size=\"14.00\">samples = 30</text>\n<text text-anchor=\"middle\" x=\"1123\" y=\"-245.8\" font-family=\"Helvetica,sans-Serif\" font-size=\"14.00\">value = [11, 19]</text>\n<text text-anchor=\"middle\" x=\"1123\" y=\"-230.8\" font-family=\"Helvetica,sans-Serif\" font-size=\"14.00\">class = 1</text>\n</g>\n<!-- 18&#45;&gt;28 -->\n<g id=\"edge28\" class=\"edge\">\n<title>18&#45;&gt;28</title>\n<path fill=\"none\" stroke=\"black\" d=\"M959.08,-341.91C980.99,-331.7 1004.62,-320.68 1026.93,-310.28\"/>\n<polygon fill=\"black\" stroke=\"black\" points=\"1028.49,-313.42 1036.07,-306.02 1025.53,-307.07 1028.49,-313.42\"/>\n</g>\n<!-- 29 -->\n<g id=\"node25\" class=\"node\">\n<title>29</title>\n<path fill=\"#c0e0f7\" stroke=\"black\" d=\"M895.5,-187C895.5,-187 774.5,-187 774.5,-187 768.5,-187 762.5,-181 762.5,-175 762.5,-175 762.5,-116 762.5,-116 762.5,-110 768.5,-104 774.5,-104 774.5,-104 895.5,-104 895.5,-104 901.5,-104 907.5,-110 907.5,-116 907.5,-116 907.5,-175 907.5,-175 907.5,-181 901.5,-187 895.5,-187\"/>\n<text text-anchor=\"middle\" x=\"835\" y=\"-171.8\" font-family=\"Helvetica,sans-Serif\" font-size=\"14.00\">Glucose &lt;= 122.5</text>\n<text text-anchor=\"middle\" x=\"835\" y=\"-156.8\" font-family=\"Helvetica,sans-Serif\" font-size=\"14.00\">entropy = 0.97</text>\n<text text-anchor=\"middle\" x=\"835\" y=\"-141.8\" font-family=\"Helvetica,sans-Serif\" font-size=\"14.00\">samples = 32</text>\n<text text-anchor=\"middle\" x=\"835\" y=\"-126.8\" font-family=\"Helvetica,sans-Serif\" font-size=\"14.00\">value = [13, 19]</text>\n<text text-anchor=\"middle\" x=\"835\" y=\"-111.8\" font-family=\"Helvetica,sans-Serif\" font-size=\"14.00\">class = 1</text>\n</g>\n<!-- 27&#45;&gt;29 -->\n<g id=\"edge24\" class=\"edge\">\n<title>27&#45;&gt;29</title>\n<path fill=\"none\" stroke=\"black\" d=\"M859.16,-222.91C856.49,-214.47 853.65,-205.48 850.89,-196.74\"/>\n<polygon fill=\"black\" stroke=\"black\" points=\"854.17,-195.5 847.81,-187.02 847.49,-197.61 854.17,-195.5\"/>\n</g>\n<!-- 30 -->\n<g id=\"node28\" class=\"node\">\n<title>30</title>\n<path fill=\"#eead7f\" stroke=\"black\" d=\"M1036,-179.5C1036,-179.5 938,-179.5 938,-179.5 932,-179.5 926,-173.5 926,-167.5 926,-167.5 926,-123.5 926,-123.5 926,-117.5 932,-111.5 938,-111.5 938,-111.5 1036,-111.5 1036,-111.5 1042,-111.5 1048,-117.5 1048,-123.5 1048,-123.5 1048,-167.5 1048,-167.5 1048,-173.5 1042,-179.5 1036,-179.5\"/>\n<text text-anchor=\"middle\" x=\"987\" y=\"-164.3\" font-family=\"Helvetica,sans-Serif\" font-size=\"14.00\">entropy = 0.83</text>\n<text text-anchor=\"middle\" x=\"987\" y=\"-149.3\" font-family=\"Helvetica,sans-Serif\" font-size=\"14.00\">samples = 23</text>\n<text text-anchor=\"middle\" x=\"987\" y=\"-134.3\" font-family=\"Helvetica,sans-Serif\" font-size=\"14.00\">value = [17, 6]</text>\n<text text-anchor=\"middle\" x=\"987\" y=\"-119.3\" font-family=\"Helvetica,sans-Serif\" font-size=\"14.00\">class = 0</text>\n</g>\n<!-- 27&#45;&gt;30 -->\n<g id=\"edge27\" class=\"edge\">\n<title>27&#45;&gt;30</title>\n<path fill=\"none\" stroke=\"black\" d=\"M911.9,-222.91C923.29,-211.32 935.69,-198.7 947.08,-187.11\"/>\n<polygon fill=\"black\" stroke=\"black\" points=\"949.89,-189.25 954.4,-179.67 944.89,-184.35 949.89,-189.25\"/>\n</g>\n<!-- 35 -->\n<g id=\"node26\" class=\"node\">\n<title>35</title>\n<path fill=\"#93caf1\" stroke=\"black\" d=\"M816,-68C816,-68 718,-68 718,-68 712,-68 706,-62 706,-56 706,-56 706,-12 706,-12 706,-6 712,0 718,0 718,0 816,0 816,0 822,0 828,-6 828,-12 828,-12 828,-56 828,-56 828,-62 822,-68 816,-68\"/>\n<text text-anchor=\"middle\" x=\"767\" y=\"-52.8\" font-family=\"Helvetica,sans-Serif\" font-size=\"14.00\">entropy = 0.9</text>\n<text text-anchor=\"middle\" x=\"767\" y=\"-37.8\" font-family=\"Helvetica,sans-Serif\" font-size=\"14.00\">samples = 16</text>\n<text text-anchor=\"middle\" x=\"767\" y=\"-22.8\" font-family=\"Helvetica,sans-Serif\" font-size=\"14.00\">value = [5, 11]</text>\n<text text-anchor=\"middle\" x=\"767\" y=\"-7.8\" font-family=\"Helvetica,sans-Serif\" font-size=\"14.00\">class = 1</text>\n</g>\n<!-- 29&#45;&gt;35 -->\n<g id=\"edge25\" class=\"edge\">\n<title>29&#45;&gt;35</title>\n<path fill=\"none\" stroke=\"black\" d=\"M809.68,-103.73C804.24,-94.97 798.49,-85.7 793.02,-76.91\"/>\n<polygon fill=\"black\" stroke=\"black\" points=\"795.93,-74.95 787.68,-68.3 789.98,-78.64 795.93,-74.95\"/>\n</g>\n<!-- 36 -->\n<g id=\"node27\" class=\"node\">\n<title>36</title>\n<path fill=\"#ffffff\" stroke=\"black\" d=\"M947.5,-68C947.5,-68 858.5,-68 858.5,-68 852.5,-68 846.5,-62 846.5,-56 846.5,-56 846.5,-12 846.5,-12 846.5,-6 852.5,0 858.5,0 858.5,0 947.5,0 947.5,0 953.5,0 959.5,-6 959.5,-12 959.5,-12 959.5,-56 959.5,-56 959.5,-62 953.5,-68 947.5,-68\"/>\n<text text-anchor=\"middle\" x=\"903\" y=\"-52.8\" font-family=\"Helvetica,sans-Serif\" font-size=\"14.00\">entropy = 1.0</text>\n<text text-anchor=\"middle\" x=\"903\" y=\"-37.8\" font-family=\"Helvetica,sans-Serif\" font-size=\"14.00\">samples = 16</text>\n<text text-anchor=\"middle\" x=\"903\" y=\"-22.8\" font-family=\"Helvetica,sans-Serif\" font-size=\"14.00\">value = [8, 8]</text>\n<text text-anchor=\"middle\" x=\"903\" y=\"-7.8\" font-family=\"Helvetica,sans-Serif\" font-size=\"14.00\">class = 0</text>\n</g>\n<!-- 29&#45;&gt;36 -->\n<g id=\"edge26\" class=\"edge\">\n<title>29&#45;&gt;36</title>\n<path fill=\"none\" stroke=\"black\" d=\"M860.32,-103.73C865.76,-94.97 871.51,-85.7 876.98,-76.91\"/>\n<polygon fill=\"black\" stroke=\"black\" points=\"880.02,-78.64 882.32,-68.3 874.07,-74.95 880.02,-78.64\"/>\n</g>\n<!-- 31 -->\n<g id=\"node30\" class=\"node\">\n<title>31</title>\n<path fill=\"#fcefe6\" stroke=\"black\" d=\"M1167.5,-179.5C1167.5,-179.5 1078.5,-179.5 1078.5,-179.5 1072.5,-179.5 1066.5,-173.5 1066.5,-167.5 1066.5,-167.5 1066.5,-123.5 1066.5,-123.5 1066.5,-117.5 1072.5,-111.5 1078.5,-111.5 1078.5,-111.5 1167.5,-111.5 1167.5,-111.5 1173.5,-111.5 1179.5,-117.5 1179.5,-123.5 1179.5,-123.5 1179.5,-167.5 1179.5,-167.5 1179.5,-173.5 1173.5,-179.5 1167.5,-179.5\"/>\n<text text-anchor=\"middle\" x=\"1123\" y=\"-164.3\" font-family=\"Helvetica,sans-Serif\" font-size=\"14.00\">entropy = 1.0</text>\n<text text-anchor=\"middle\" x=\"1123\" y=\"-149.3\" font-family=\"Helvetica,sans-Serif\" font-size=\"14.00\">samples = 15</text>\n<text text-anchor=\"middle\" x=\"1123\" y=\"-134.3\" font-family=\"Helvetica,sans-Serif\" font-size=\"14.00\">value = [8, 7]</text>\n<text text-anchor=\"middle\" x=\"1123\" y=\"-119.3\" font-family=\"Helvetica,sans-Serif\" font-size=\"14.00\">class = 0</text>\n</g>\n<!-- 28&#45;&gt;31 -->\n<g id=\"edge29\" class=\"edge\">\n<title>28&#45;&gt;31</title>\n<path fill=\"none\" stroke=\"black\" d=\"M1123,-222.91C1123,-212.2 1123,-200.62 1123,-189.78\"/>\n<polygon fill=\"black\" stroke=\"black\" points=\"1126.5,-189.67 1123,-179.67 1119.5,-189.67 1126.5,-189.67\"/>\n</g>\n<!-- 32 -->\n<g id=\"node31\" class=\"node\">\n<title>32</title>\n<path fill=\"#6ab6ec\" stroke=\"black\" d=\"M1308,-179.5C1308,-179.5 1210,-179.5 1210,-179.5 1204,-179.5 1198,-173.5 1198,-167.5 1198,-167.5 1198,-123.5 1198,-123.5 1198,-117.5 1204,-111.5 1210,-111.5 1210,-111.5 1308,-111.5 1308,-111.5 1314,-111.5 1320,-117.5 1320,-123.5 1320,-123.5 1320,-167.5 1320,-167.5 1320,-173.5 1314,-179.5 1308,-179.5\"/>\n<text text-anchor=\"middle\" x=\"1259\" y=\"-164.3\" font-family=\"Helvetica,sans-Serif\" font-size=\"14.00\">entropy = 0.72</text>\n<text text-anchor=\"middle\" x=\"1259\" y=\"-149.3\" font-family=\"Helvetica,sans-Serif\" font-size=\"14.00\">samples = 15</text>\n<text text-anchor=\"middle\" x=\"1259\" y=\"-134.3\" font-family=\"Helvetica,sans-Serif\" font-size=\"14.00\">value = [3, 12]</text>\n<text text-anchor=\"middle\" x=\"1259\" y=\"-119.3\" font-family=\"Helvetica,sans-Serif\" font-size=\"14.00\">class = 1</text>\n</g>\n<!-- 28&#45;&gt;32 -->\n<g id=\"edge30\" class=\"edge\">\n<title>28&#45;&gt;32</title>\n<path fill=\"none\" stroke=\"black\" d=\"M1170.18,-222.91C1183.91,-211.1 1198.89,-198.22 1212.56,-186.45\"/>\n<polygon fill=\"black\" stroke=\"black\" points=\"1215.15,-188.84 1220.45,-179.67 1210.58,-183.54 1215.15,-188.84\"/>\n</g>\n<!-- 7 -->\n<g id=\"node34\" class=\"node\">\n<title>7</title>\n<path fill=\"#deeffb\" stroke=\"black\" d=\"M713.5,-774.5C713.5,-774.5 606.5,-774.5 606.5,-774.5 600.5,-774.5 594.5,-768.5 594.5,-762.5 594.5,-762.5 594.5,-718.5 594.5,-718.5 594.5,-712.5 600.5,-706.5 606.5,-706.5 606.5,-706.5 713.5,-706.5 713.5,-706.5 719.5,-706.5 725.5,-712.5 725.5,-718.5 725.5,-718.5 725.5,-762.5 725.5,-762.5 725.5,-768.5 719.5,-774.5 713.5,-774.5\"/>\n<text text-anchor=\"middle\" x=\"660\" y=\"-759.3\" font-family=\"Helvetica,sans-Serif\" font-size=\"14.00\">entropy = 0.99</text>\n<text text-anchor=\"middle\" x=\"660\" y=\"-744.3\" font-family=\"Helvetica,sans-Serif\" font-size=\"14.00\">samples = 22</text>\n<text text-anchor=\"middle\" x=\"660\" y=\"-729.3\" font-family=\"Helvetica,sans-Serif\" font-size=\"14.00\">value = [10, 12]</text>\n<text text-anchor=\"middle\" x=\"660\" y=\"-714.3\" font-family=\"Helvetica,sans-Serif\" font-size=\"14.00\">class = 1</text>\n</g>\n<!-- 2&#45;&gt;7 -->\n<g id=\"edge33\" class=\"edge\">\n<title>2&#45;&gt;7</title>\n<path fill=\"none\" stroke=\"black\" d=\"M669.8,-817.91C668.42,-807.2 666.94,-795.62 665.55,-784.78\"/>\n<polygon fill=\"black\" stroke=\"black\" points=\"669,-784.14 664.25,-774.67 662.05,-785.03 669,-784.14\"/>\n</g>\n<!-- 8 -->\n<g id=\"node35\" class=\"node\">\n<title>8</title>\n<path fill=\"#4da7e8\" stroke=\"black\" d=\"M868.5,-782C868.5,-782 755.5,-782 755.5,-782 749.5,-782 743.5,-776 743.5,-770 743.5,-770 743.5,-711 743.5,-711 743.5,-705 749.5,-699 755.5,-699 755.5,-699 868.5,-699 868.5,-699 874.5,-699 880.5,-705 880.5,-711 880.5,-711 880.5,-770 880.5,-770 880.5,-776 874.5,-782 868.5,-782\"/>\n<text text-anchor=\"middle\" x=\"812\" y=\"-766.8\" font-family=\"Helvetica,sans-Serif\" font-size=\"14.00\">Insulin &lt;= 247.0</text>\n<text text-anchor=\"middle\" x=\"812\" y=\"-751.8\" font-family=\"Helvetica,sans-Serif\" font-size=\"14.00\">entropy = 0.45</text>\n<text text-anchor=\"middle\" x=\"812\" y=\"-736.8\" font-family=\"Helvetica,sans-Serif\" font-size=\"14.00\">samples = 54</text>\n<text text-anchor=\"middle\" x=\"812\" y=\"-721.8\" font-family=\"Helvetica,sans-Serif\" font-size=\"14.00\">value = [5, 49]</text>\n<text text-anchor=\"middle\" x=\"812\" y=\"-706.8\" font-family=\"Helvetica,sans-Serif\" font-size=\"14.00\">class = 1</text>\n</g>\n<!-- 2&#45;&gt;8 -->\n<g id=\"edge34\" class=\"edge\">\n<title>2&#45;&gt;8</title>\n<path fill=\"none\" stroke=\"black\" d=\"M722.53,-817.91C733.58,-808.47 745.44,-798.34 756.79,-788.65\"/>\n<polygon fill=\"black\" stroke=\"black\" points=\"759.22,-791.18 764.55,-782.02 754.68,-785.85 759.22,-791.18\"/>\n</g>\n<!-- 9 -->\n<g id=\"node36\" class=\"node\">\n<title>9</title>\n<path fill=\"#399de5\" stroke=\"black\" d=\"M845,-655.5C845,-655.5 747,-655.5 747,-655.5 741,-655.5 735,-649.5 735,-643.5 735,-643.5 735,-599.5 735,-599.5 735,-593.5 741,-587.5 747,-587.5 747,-587.5 845,-587.5 845,-587.5 851,-587.5 857,-593.5 857,-599.5 857,-599.5 857,-643.5 857,-643.5 857,-649.5 851,-655.5 845,-655.5\"/>\n<text text-anchor=\"middle\" x=\"796\" y=\"-640.3\" font-family=\"Helvetica,sans-Serif\" font-size=\"14.00\">entropy = 0.0</text>\n<text text-anchor=\"middle\" x=\"796\" y=\"-625.3\" font-family=\"Helvetica,sans-Serif\" font-size=\"14.00\">samples = 39</text>\n<text text-anchor=\"middle\" x=\"796\" y=\"-610.3\" font-family=\"Helvetica,sans-Serif\" font-size=\"14.00\">value = [0, 39]</text>\n<text text-anchor=\"middle\" x=\"796\" y=\"-595.3\" font-family=\"Helvetica,sans-Serif\" font-size=\"14.00\">class = 1</text>\n</g>\n<!-- 8&#45;&gt;9 -->\n<g id=\"edge35\" class=\"edge\">\n<title>8&#45;&gt;9</title>\n<path fill=\"none\" stroke=\"black\" d=\"M806.45,-698.91C804.99,-688.2 803.4,-676.62 801.92,-665.78\"/>\n<polygon fill=\"black\" stroke=\"black\" points=\"805.36,-665.1 800.54,-655.67 798.42,-666.05 805.36,-665.1\"/>\n</g>\n<!-- 10 -->\n<g id=\"node37\" class=\"node\">\n<title>10</title>\n<path fill=\"#9ccef2\" stroke=\"black\" d=\"M985,-655.5C985,-655.5 887,-655.5 887,-655.5 881,-655.5 875,-649.5 875,-643.5 875,-643.5 875,-599.5 875,-599.5 875,-593.5 881,-587.5 887,-587.5 887,-587.5 985,-587.5 985,-587.5 991,-587.5 997,-593.5 997,-599.5 997,-599.5 997,-643.5 997,-643.5 997,-649.5 991,-655.5 985,-655.5\"/>\n<text text-anchor=\"middle\" x=\"936\" y=\"-640.3\" font-family=\"Helvetica,sans-Serif\" font-size=\"14.00\">entropy = 0.92</text>\n<text text-anchor=\"middle\" x=\"936\" y=\"-625.3\" font-family=\"Helvetica,sans-Serif\" font-size=\"14.00\">samples = 15</text>\n<text text-anchor=\"middle\" x=\"936\" y=\"-610.3\" font-family=\"Helvetica,sans-Serif\" font-size=\"14.00\">value = [5, 10]</text>\n<text text-anchor=\"middle\" x=\"936\" y=\"-595.3\" font-family=\"Helvetica,sans-Serif\" font-size=\"14.00\">class = 1</text>\n</g>\n<!-- 8&#45;&gt;10 -->\n<g id=\"edge36\" class=\"edge\">\n<title>8&#45;&gt;10</title>\n<path fill=\"none\" stroke=\"black\" d=\"M855.02,-698.91C867.42,-687.21 880.93,-674.46 893.31,-662.78\"/>\n<polygon fill=\"black\" stroke=\"black\" points=\"895.98,-665.08 900.85,-655.67 891.17,-659.98 895.98,-665.08\"/>\n</g>\n</g>\n</svg>\n",
      "text/plain": [
       "<graphviz.sources.Source at 0x7f08f4654460>"
      ]
     },
     "execution_count": 20,
     "metadata": {},
     "output_type": "execute_result"
    }
   ],
   "source": [
    "from sklearn.tree import export_graphviz\n",
    "import graphviz\n",
    "columns = list(x.columns)\n",
    "export_graphviz(clf, out_file='tree.dot', \n",
    "                feature_names=columns,\n",
    "                class_names=['0', '1'],\n",
    "                rounded = True, proportion = False, \n",
    "                precision = 2, filled = True, label='all')\n",
    "\n",
    "with open('tree.dot') as f:\n",
    "    dot_graph = f.read()\n",
    "\n",
    "graphviz.Source(dot_graph)"
   ]
  },
  {
   "cell_type": "code",
   "execution_count": 22,
   "metadata": {},
   "outputs": [
    {
     "data": {
      "text/plain": [
       "8"
      ]
     },
     "execution_count": 22,
     "metadata": {},
     "output_type": "execute_result"
    }
   ],
   "source": [
    "clf.tree_.max_depth"
   ]
  },
  {
   "cell_type": "code",
   "execution_count": 23,
   "metadata": {},
   "outputs": [],
   "source": [
    "x_test = test[features]\n",
    "y_test_true = test['Outcome']\n",
    "y_test_pred = clf.predict(x_test)"
   ]
  },
  {
   "cell_type": "code",
   "execution_count": 24,
   "metadata": {},
   "outputs": [
    {
     "data": {
      "text/html": [
       "<div>\n",
       "<style scoped>\n",
       "    .dataframe tbody tr th:only-of-type {\n",
       "        vertical-align: middle;\n",
       "    }\n",
       "\n",
       "    .dataframe tbody tr th {\n",
       "        vertical-align: top;\n",
       "    }\n",
       "\n",
       "    .dataframe thead th {\n",
       "        text-align: right;\n",
       "    }\n",
       "</style>\n",
       "<table border=\"1\" class=\"dataframe\">\n",
       "  <thead>\n",
       "    <tr style=\"text-align: right;\">\n",
       "      <th></th>\n",
       "      <th>Pregnancies</th>\n",
       "      <th>Glucose</th>\n",
       "      <th>BloodPressure</th>\n",
       "      <th>SkinThickness</th>\n",
       "      <th>Insulin</th>\n",
       "      <th>BMI</th>\n",
       "      <th>DiabetesPedigreeFunction</th>\n",
       "      <th>Age</th>\n",
       "    </tr>\n",
       "  </thead>\n",
       "  <tbody>\n",
       "    <tr>\n",
       "      <th>416</th>\n",
       "      <td>1</td>\n",
       "      <td>97</td>\n",
       "      <td>68</td>\n",
       "      <td>21</td>\n",
       "      <td>0</td>\n",
       "      <td>27.2</td>\n",
       "      <td>1.095</td>\n",
       "      <td>22</td>\n",
       "    </tr>\n",
       "    <tr>\n",
       "      <th>417</th>\n",
       "      <td>4</td>\n",
       "      <td>144</td>\n",
       "      <td>82</td>\n",
       "      <td>32</td>\n",
       "      <td>0</td>\n",
       "      <td>38.5</td>\n",
       "      <td>0.554</td>\n",
       "      <td>37</td>\n",
       "    </tr>\n",
       "    <tr>\n",
       "      <th>418</th>\n",
       "      <td>1</td>\n",
       "      <td>83</td>\n",
       "      <td>68</td>\n",
       "      <td>0</td>\n",
       "      <td>0</td>\n",
       "      <td>18.2</td>\n",
       "      <td>0.624</td>\n",
       "      <td>27</td>\n",
       "    </tr>\n",
       "    <tr>\n",
       "      <th>419</th>\n",
       "      <td>3</td>\n",
       "      <td>129</td>\n",
       "      <td>64</td>\n",
       "      <td>29</td>\n",
       "      <td>115</td>\n",
       "      <td>26.4</td>\n",
       "      <td>0.219</td>\n",
       "      <td>28</td>\n",
       "    </tr>\n",
       "    <tr>\n",
       "      <th>420</th>\n",
       "      <td>1</td>\n",
       "      <td>119</td>\n",
       "      <td>88</td>\n",
       "      <td>41</td>\n",
       "      <td>170</td>\n",
       "      <td>45.3</td>\n",
       "      <td>0.507</td>\n",
       "      <td>26</td>\n",
       "    </tr>\n",
       "    <tr>\n",
       "      <th>...</th>\n",
       "      <td>...</td>\n",
       "      <td>...</td>\n",
       "      <td>...</td>\n",
       "      <td>...</td>\n",
       "      <td>...</td>\n",
       "      <td>...</td>\n",
       "      <td>...</td>\n",
       "      <td>...</td>\n",
       "    </tr>\n",
       "    <tr>\n",
       "      <th>515</th>\n",
       "      <td>3</td>\n",
       "      <td>163</td>\n",
       "      <td>70</td>\n",
       "      <td>18</td>\n",
       "      <td>105</td>\n",
       "      <td>31.6</td>\n",
       "      <td>0.268</td>\n",
       "      <td>28</td>\n",
       "    </tr>\n",
       "    <tr>\n",
       "      <th>516</th>\n",
       "      <td>9</td>\n",
       "      <td>145</td>\n",
       "      <td>88</td>\n",
       "      <td>34</td>\n",
       "      <td>165</td>\n",
       "      <td>30.3</td>\n",
       "      <td>0.771</td>\n",
       "      <td>53</td>\n",
       "    </tr>\n",
       "    <tr>\n",
       "      <th>517</th>\n",
       "      <td>7</td>\n",
       "      <td>125</td>\n",
       "      <td>86</td>\n",
       "      <td>0</td>\n",
       "      <td>0</td>\n",
       "      <td>37.6</td>\n",
       "      <td>0.304</td>\n",
       "      <td>51</td>\n",
       "    </tr>\n",
       "    <tr>\n",
       "      <th>518</th>\n",
       "      <td>13</td>\n",
       "      <td>76</td>\n",
       "      <td>60</td>\n",
       "      <td>0</td>\n",
       "      <td>0</td>\n",
       "      <td>32.8</td>\n",
       "      <td>0.180</td>\n",
       "      <td>41</td>\n",
       "    </tr>\n",
       "    <tr>\n",
       "      <th>519</th>\n",
       "      <td>6</td>\n",
       "      <td>129</td>\n",
       "      <td>90</td>\n",
       "      <td>7</td>\n",
       "      <td>326</td>\n",
       "      <td>19.6</td>\n",
       "      <td>0.582</td>\n",
       "      <td>60</td>\n",
       "    </tr>\n",
       "  </tbody>\n",
       "</table>\n",
       "<p>104 rows × 8 columns</p>\n",
       "</div>"
      ],
      "text/plain": [
       "     Pregnancies  Glucose  BloodPressure  SkinThickness  Insulin   BMI  \\\n",
       "416            1       97             68             21        0  27.2   \n",
       "417            4      144             82             32        0  38.5   \n",
       "418            1       83             68              0        0  18.2   \n",
       "419            3      129             64             29      115  26.4   \n",
       "420            1      119             88             41      170  45.3   \n",
       "..           ...      ...            ...            ...      ...   ...   \n",
       "515            3      163             70             18      105  31.6   \n",
       "516            9      145             88             34      165  30.3   \n",
       "517            7      125             86              0        0  37.6   \n",
       "518           13       76             60              0        0  32.8   \n",
       "519            6      129             90              7      326  19.6   \n",
       "\n",
       "     DiabetesPedigreeFunction  Age  \n",
       "416                     1.095   22  \n",
       "417                     0.554   37  \n",
       "418                     0.624   27  \n",
       "419                     0.219   28  \n",
       "420                     0.507   26  \n",
       "..                        ...  ...  \n",
       "515                     0.268   28  \n",
       "516                     0.771   53  \n",
       "517                     0.304   51  \n",
       "518                     0.180   41  \n",
       "519                     0.582   60  \n",
       "\n",
       "[104 rows x 8 columns]"
      ]
     },
     "execution_count": 24,
     "metadata": {},
     "output_type": "execute_result"
    }
   ],
   "source": [
    "x_test"
   ]
  },
  {
   "cell_type": "code",
   "execution_count": 25,
   "metadata": {},
   "outputs": [
    {
     "data": {
      "text/plain": [
       "0.8173076923076923"
      ]
     },
     "execution_count": 25,
     "metadata": {},
     "output_type": "execute_result"
    }
   ],
   "source": [
    "from sklearn.metrics import accuracy_score\n",
    "accuracy_score(y_test_true, y_test_pred)"
   ]
  },
  {
   "cell_type": "code",
   "execution_count": 26,
   "metadata": {},
   "outputs": [
    {
     "data": {
      "text/plain": [
       "0.759464394400487"
      ]
     },
     "execution_count": 26,
     "metadata": {},
     "output_type": "execute_result"
    }
   ],
   "source": [
    "from sklearn.metrics import f1_score\n",
    "f1_score(y_test_true, y_test_pred, average='macro')"
   ]
  },
  {
   "cell_type": "code",
   "execution_count": 27,
   "metadata": {},
   "outputs": [
    {
     "data": {
      "text/plain": [
       "Pregnancies                  5.000\n",
       "Glucose                     97.000\n",
       "BloodPressure               76.000\n",
       "SkinThickness               27.000\n",
       "Insulin                      0.000\n",
       "BMI                         35.600\n",
       "DiabetesPedigreeFunction     0.378\n",
       "Age                         52.000\n",
       "Name: 719, dtype: float64"
      ]
     },
     "execution_count": 27,
     "metadata": {},
     "output_type": "execute_result"
    }
   ],
   "source": [
    "df.loc[739, features]"
   ]
  },
  {
   "cell_type": "code",
   "execution_count": 32,
   "metadata": {},
   "outputs": [
    {
     "name": "stderr",
     "output_type": "stream",
     "text": [
      "/usr/local/lib/python3.10/dist-packages/sklearn/base.py:450: UserWarning: X does not have valid feature names, but DecisionTreeClassifier was fitted with feature names\n",
      "  warnings.warn(\n"
     ]
    },
    {
     "data": {
      "text/plain": [
       "0"
      ]
     },
     "execution_count": 32,
     "metadata": {},
     "output_type": "execute_result"
    }
   ],
   "source": [
    "clf.predict([df.loc[734, features]])[0]"
   ]
  }
 ],
 "metadata": {
  "kernelspec": {
   "display_name": "Python 3.10.6 64-bit",
   "language": "python",
   "name": "python3"
  },
  "language_info": {
   "codemirror_mode": {
    "name": "ipython",
    "version": 3
   },
   "file_extension": ".py",
   "mimetype": "text/x-python",
   "name": "python",
   "nbconvert_exporter": "python",
   "pygments_lexer": "ipython3",
   "version": "3.10.6"
  },
  "orig_nbformat": 4,
  "vscode": {
   "interpreter": {
    "hash": "916dbcbb3f70747c44a77c7bcd40155683ae19c65e1c03b4aa3499c5328201f1"
   }
  }
 },
 "nbformat": 4,
 "nbformat_minor": 2
}
